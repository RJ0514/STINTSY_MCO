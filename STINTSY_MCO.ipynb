{
 "cells": [
  {
   "cell_type": "markdown",
   "id": "eb94d1a1-2c72-4734-aed4-10c1b1090c84",
   "metadata": {
    "slideshow": {
     "slide_type": ""
    },
    "tags": []
   },
   "source": [
    "# STINTSY Major Course Output"
   ]
  },
  {
   "cell_type": "markdown",
   "id": "5a81d6ae-d979-40f2-8d78-d038dd3f01a5",
   "metadata": {},
   "source": [
    "*S12 - Ryan Jay Deculawan, Hyenne Audrey Lim, Viktoria Lila Sicuan*"
   ]
  },
  {
   "cell_type": "markdown",
   "id": "d4365c86-4bf7-411c-b8e0-b4f55050d31f",
   "metadata": {
    "jp-MarkdownHeadingCollapsed": true
   },
   "source": [
    "## 1. Introduction"
   ]
  },
  {
   "cell_type": "markdown",
   "id": "da2a4ca9",
   "metadata": {},
   "source": [
    "Soccer's extraordinary global appeal, with 3.5 billion supporters worldwide, cements its position as the most watched sport on the planet. Soccer creates a common passion that brings people from all walks of life together (The Most Popular Sports In The World, n.d.). This worldwide sport has the remarkable potential to cross cultural, language, and geographical borders, bringing people together from all walks of life. Fans congregate in their homes, bars, or stadiums to form a feeling of community and shared identity. Soccer's ongoing popularity stems from its capacity to bring together people of all ages and skill levels, making it more than simply a game but a celebration of athleticism, teamwork, and the universal spirit of competitiveness.\n",
    "\n",
    "Soccer's enormous commercial worth is clear in the huge sums it earns for numerous leagues throughout the world. Soccer leagues have the highest TV viewership of any sports league, which contributes greatly to the sport's economic supremacy. The World Cup, the flagship event, is the embodiment of this phenomena, easily outshining every other significant athletic event. The tremendous viewership and worldwide influence of the World Cup highlight soccer's power to captivate the collective interest and intrigue of audiences on an unprecedented scale, transforming it into more than simply a game but a global cultural phenomenon. Soccer's economic impact, paired with its exciting dynamics, solidifies it as a sporting superpower that crosses geographical and cultural barriers (The World’s Most Watched Sports, 2017)."
   ]
  },
  {
   "cell_type": "markdown",
   "id": "9939a712",
   "metadata": {},
   "source": [
    "### Problem"
   ]
  },
  {
   "cell_type": "markdown",
   "id": "cf36dbb7",
   "metadata": {},
   "source": [
    "Home advantage, which occurs in all sports, including soccer, is caused by a mix of psychological and physiological variables. The presence of ardent supporters fosters a supportive and motivational environment for the home side while perhaps influencing referee decisions owing to crowd reactions. Furthermore, the physical and emotional exhaustion involved with travel for visiting teams contributes to the home edge. The familiarity with the particular qualities of the home field, like as pitch size and surface, further tilts the scale in favor of the home side. Home advantage is essentially a complicated interaction of crowd support, referee dynamics, travel-related obstacles, and field familiarity that shapes the competitive landscape of sports (Zheng, 2015).\n",
    "\n",
    "With this in mind, our objective is to investigate the feasibility of forecasting home advantage based on a snapshot of soccer matches. This project intends to emphasize the complex problems of applying modeling tools to real-life events, particularly in the dynamic environment of soccer matches. These machine learning models can help teams plan better strategies by offering insights into their opponents' strengths and weaknesses, such as knowing whether it is strategically better to play aggressively given the statistics of the match. Fans may also appreciate the game on a whole new level through the analysis of data and understanding the aspects that contribute to a team's success. Furthermore, predictive models can assist spectators in making better educated predictions about the outcome of a game, which can increase the enjoyment of watching the game."
   ]
  },
  {
   "cell_type": "markdown",
   "id": "ae36522c-4923-4d58-90f0-7644b24712d4",
   "metadata": {
    "jp-MarkdownHeadingCollapsed": true
   },
   "source": [
    "## 2. Description of the Dataset"
   ]
  },
  {
   "cell_type": "markdown",
   "id": "940fb74f-8a1d-4d0c-8274-124d3aa71107",
   "metadata": {},
   "source": [
    "To address the identified task, the Sports dataset was selected. This dataset contains 7000 random snapshots from soccer matches. This dataset was used as part of a [Kaggle Community Prediction Competition](https://www.kaggle.com/competitions/sports-trading-will-there-be-more-goals/overview)."
   ]
  },
  {
   "cell_type": "markdown",
   "id": "71f7c726-84a7-4aaf-99a0-14085002210c",
   "metadata": {},
   "source": [
    "One row in the dataset represents one snapshot of a match while one column represents one feature of a match. As mentioned, there are **7000 instances** (rows), and **21 features** (columns). The features of the dataset are as follows:"
   ]
  },
  {
   "cell_type": "markdown",
   "id": "26ac7785-ac2a-4cc9-898f-1f4c1cb8f9de",
   "metadata": {},
   "source": [
    "1. `uuid` - The unique identifier of the snapshot\n",
    "2. `current_minute` - The current minute of the in-play match. The 15 minute half-time break is included so a match has a total of 105 minutes. A current_minute of 70 corresponds to the actual match time of 55.\n",
    "3. `home_score` - Goals scored by the home team as of this current_minute\n",
    "4. `away_score`– Goals scored by the away team as of this current_minute\n",
    "5. `home_yellow_cards` - Yellow cards given to the home team as of this current_minute\n",
    "6. `away_yellow_cards` - Yellow cards given to the away team as of this current_minute\n",
    "7. `home_red_cards` - Red cards given to the home team as of this current_minute\n",
    "8. `away_red_cards` - Red cards given to the away team as of this current_minute\n",
    "9. `home_attacks` - Attacks attempted by the home team as of this current_minute\n",
    "10. `away_attacks` - Attacks attempted by the away team as of this current_minute\n",
    "11. `home_dangerous_attacks` - Dangerous attacks attempted by the home team as of this current_minute\n",
    "12. `away_dangerous_attacks` - Dangerous attacks attempted by the away team as of this current_minute\n",
    "13. `home_corners` - Corners awarded to the home team as of this current_minute\n",
    "14. `away_corners` - Corners awarded to the away team as of this current_minute\n",
    "15. `home_off_target` - Shots that didn't have to be cleared by the goalkeeper that were attempted to the home team as of this current_minute\n",
    "16. `away_off_target` - Shots that didn't have to be cleared by the goalkeeper that were attempted to the away team as of this current_minute\n",
    "17. `home_on_target` - Shots that had to be cleared by the goalkeeper that were attempted to the home team as of this current_minute`\n",
    "18. `away_on_target` - Shots that had to be cleared by the goalkeeper that were attempted to the away team as of this current_minute`\n",
    "19. `home_possession` - How much ball possession in % did the home team have until this current_minute`\n",
    "20. `away_possession` - How much ball possession in % did the away team have until this current_minute`\n",
    "21. `final_delta` - The intended target value for each instance. Given that this dataset is from a competition, this column was provided as the value to be predicted for an instance's set of features."
   ]
  },
  {
   "cell_type": "markdown",
   "id": "9cfea645-5ad4-4d0e-acb9-7771d6cfac9f",
   "metadata": {},
   "source": [
    "## 3. List of Requirements"
   ]
  },
  {
   "cell_type": "markdown",
   "id": "69bab29a-9e5c-44dc-8ccb-0bf133afa645",
   "metadata": {},
   "source": [
    "The following are the libraries and modules used to run the notebook."
   ]
  },
  {
   "cell_type": "code",
   "execution_count": 1,
   "id": "378037d8-a942-44c8-8358-2bbe9309016e",
   "metadata": {},
   "outputs": [],
   "source": [
    "from sklearn.model_selection import train_test_split\n",
    "import pandas as pd\n",
    "import numpy as np\n",
    "import matplotlib.pyplot as plt\n",
    "from scipy.stats import randint\n",
    "from scipy.stats import uniform\n",
    "import os\n",
    "from sklearn.ensemble import RandomForestClassifier\n",
    "from sklearn.model_selection import RandomizedSearchCV\n",
    "from sklearn.model_selection import GridSearchCV"
   ]
  },
  {
   "cell_type": "markdown",
   "id": "3e69d729-f8c9-4663-b858-ccf8a5117846",
   "metadata": {
    "jp-MarkdownHeadingCollapsed": true
   },
   "source": [
    "## 4. Data Preprocessing and Cleaning"
   ]
  },
  {
   "cell_type": "code",
   "execution_count": 2,
   "id": "1fc781cb-e608-4121-a860-5c602696544f",
   "metadata": {},
   "outputs": [],
   "source": [
    "#read csv file\n",
    "data = pd.read_csv('sports.csv')"
   ]
  },
  {
   "cell_type": "code",
   "execution_count": 3,
   "id": "1215f07e-2b66-49c6-98ac-c171c3effcd8",
   "metadata": {},
   "outputs": [
    {
     "name": "stdout",
     "output_type": "stream",
     "text": [
      "<class 'pandas.core.frame.DataFrame'>\n",
      "RangeIndex: 7000 entries, 0 to 6999\n",
      "Data columns (total 21 columns):\n",
      " #   Column                  Non-Null Count  Dtype \n",
      "---  ------                  --------------  ----- \n",
      " 0   uuid                    7000 non-null   object\n",
      " 1   current_minute          7000 non-null   int64 \n",
      " 2   home_score              7000 non-null   int64 \n",
      " 3   away_score              7000 non-null   int64 \n",
      " 4   home_yellow_cards       7000 non-null   int64 \n",
      " 5   away_yellow_cards       7000 non-null   int64 \n",
      " 6   home_red_cards          7000 non-null   int64 \n",
      " 7   away_red_cards          7000 non-null   int64 \n",
      " 8   home_attacks            7000 non-null   int64 \n",
      " 9   away_attacks            7000 non-null   int64 \n",
      " 10  home_dangerous_attacks  7000 non-null   int64 \n",
      " 11  away_dangerous_attacks  7000 non-null   int64 \n",
      " 12  home_corners            7000 non-null   int64 \n",
      " 13  away_corners            7000 non-null   int64 \n",
      " 14  home_off_target         7000 non-null   int64 \n",
      " 15  away_off_target         7000 non-null   int64 \n",
      " 16  home_on_target          7000 non-null   int64 \n",
      " 17  away_on_target          7000 non-null   int64 \n",
      " 18  home_possession         7000 non-null   int64 \n",
      " 19  away_possession         7000 non-null   int64 \n",
      " 20  final_delta             7000 non-null   int64 \n",
      "dtypes: int64(20), object(1)\n",
      "memory usage: 1.1+ MB\n",
      "None\n"
     ]
    }
   ],
   "source": [
    "print(data.info())"
   ]
  },
  {
   "cell_type": "markdown",
   "id": "2e62a082-8c7e-4f85-8148-0c732cbc4213",
   "metadata": {},
   "source": [
    "Given that the `final_delta` and `uuid` columns do not contribute to the characterization of each soccer match timestamp, these are dropped."
   ]
  },
  {
   "cell_type": "code",
   "execution_count": 4,
   "id": "86226506-6980-4144-b025-1aabeddaccd1",
   "metadata": {},
   "outputs": [
    {
     "name": "stdout",
     "output_type": "stream",
     "text": [
      "Index(['current_minute', 'home_score', 'away_score', 'home_yellow_cards',\n",
      "       'away_yellow_cards', 'home_red_cards', 'away_red_cards', 'home_attacks',\n",
      "       'away_attacks', 'home_dangerous_attacks', 'away_dangerous_attacks',\n",
      "       'home_corners', 'away_corners', 'home_off_target', 'away_off_target',\n",
      "       'home_on_target', 'away_on_target', 'home_possession',\n",
      "       'away_possession'],\n",
      "      dtype='object')\n"
     ]
    }
   ],
   "source": [
    "data.drop([\"uuid\", \"final_delta\"], axis=1, inplace=True)\n",
    "print(data.columns)"
   ]
  },
  {
   "cell_type": "code",
   "execution_count": 5,
   "id": "00cfd12a-cd63-49a0-a83f-f84e696b4eb0",
   "metadata": {},
   "outputs": [],
   "source": [
    "#There are 14 instances where the current minute is <0. \n",
    "#Given that these are only 14, and our total data size is 7000, we can opt to remove them.\n",
    "\n",
    "#First: Collect the indexes of the to-be-removed rows\n",
    "indices = list(data[data['current_minute'] < 0].index)\n",
    "\n",
    "#Second: remove the rows using .drop \n",
    "data = data.drop(indices)"
   ]
  },
  {
   "cell_type": "code",
   "execution_count": 6,
   "id": "ee96fe26-d9be-4166-a4b3-20850160d2c7",
   "metadata": {},
   "outputs": [
    {
     "data": {
      "text/html": [
       "<div>\n",
       "<style scoped>\n",
       "    .dataframe tbody tr th:only-of-type {\n",
       "        vertical-align: middle;\n",
       "    }\n",
       "\n",
       "    .dataframe tbody tr th {\n",
       "        vertical-align: top;\n",
       "    }\n",
       "\n",
       "    .dataframe thead th {\n",
       "        text-align: right;\n",
       "    }\n",
       "</style>\n",
       "<table border=\"1\" class=\"dataframe\">\n",
       "  <thead>\n",
       "    <tr style=\"text-align: right;\">\n",
       "      <th></th>\n",
       "      <th>current_minute</th>\n",
       "      <th>home_score</th>\n",
       "      <th>away_score</th>\n",
       "      <th>home_yellow_cards</th>\n",
       "      <th>away_yellow_cards</th>\n",
       "      <th>home_red_cards</th>\n",
       "      <th>away_red_cards</th>\n",
       "      <th>home_attacks</th>\n",
       "      <th>away_attacks</th>\n",
       "      <th>home_dangerous_attacks</th>\n",
       "      <th>away_dangerous_attacks</th>\n",
       "      <th>home_corners</th>\n",
       "      <th>away_corners</th>\n",
       "      <th>home_off_target</th>\n",
       "      <th>away_off_target</th>\n",
       "      <th>home_on_target</th>\n",
       "      <th>away_on_target</th>\n",
       "      <th>home_possession</th>\n",
       "      <th>away_possession</th>\n",
       "    </tr>\n",
       "  </thead>\n",
       "  <tbody>\n",
       "  </tbody>\n",
       "</table>\n",
       "</div>"
      ],
      "text/plain": [
       "Empty DataFrame\n",
       "Columns: [current_minute, home_score, away_score, home_yellow_cards, away_yellow_cards, home_red_cards, away_red_cards, home_attacks, away_attacks, home_dangerous_attacks, away_dangerous_attacks, home_corners, away_corners, home_off_target, away_off_target, home_on_target, away_on_target, home_possession, away_possession]\n",
       "Index: []"
      ]
     },
     "execution_count": 6,
     "metadata": {},
     "output_type": "execute_result"
    }
   ],
   "source": [
    "#Now, lets check, if these outliers are still present.\n",
    "data[data['current_minute'] < 0]\n",
    "#Hooray (dejk) "
   ]
  },
  {
   "cell_type": "markdown",
   "id": "358548c0-c29c-4d27-9acc-46f4b3c38f27",
   "metadata": {},
   "source": [
    "TODO: *Perform preprocessing and cleaning; move dropping < 0 minute rows here etc.*"
   ]
  },
  {
   "cell_type": "markdown",
   "id": "76f28394-c7c9-46c7-8c7f-41d3cf221c84",
   "metadata": {
    "jp-MarkdownHeadingCollapsed": true
   },
   "source": [
    "## 5. Exploratory Data Analysis"
   ]
  },
  {
   "cell_type": "markdown",
   "id": "2b63509e-0668-4427-ad47-0c26ea5228d9",
   "metadata": {
    "jp-MarkdownHeadingCollapsed": true
   },
   "source": [
    "### Calculating for Central Tendencies"
   ]
  },
  {
   "cell_type": "code",
   "execution_count": 7,
   "id": "5d876729-7390-4b1e-9455-d42681fc51d4",
   "metadata": {},
   "outputs": [],
   "source": [
    "central_tendencies = pd.DataFrame({\n",
    "    'Mean': data.iloc[:, 1:].mean(),\n",
    "    'Median': data.iloc[:, 1:].median(),\n",
    "    'Mode': data.iloc[:, 1:].mode().iloc[0]\n",
    "})\n",
    "central_tendencies = central_tendencies.reset_index()\n",
    "central_tendencies = central_tendencies.rename(columns={'index': 'Feature'})"
   ]
  },
  {
   "cell_type": "code",
   "execution_count": 8,
   "id": "e020732f-f844-44d9-baa4-64b9e5b3c055",
   "metadata": {},
   "outputs": [
    {
     "data": {
      "text/html": [
       "<div>\n",
       "<style scoped>\n",
       "    .dataframe tbody tr th:only-of-type {\n",
       "        vertical-align: middle;\n",
       "    }\n",
       "\n",
       "    .dataframe tbody tr th {\n",
       "        vertical-align: top;\n",
       "    }\n",
       "\n",
       "    .dataframe thead th {\n",
       "        text-align: right;\n",
       "    }\n",
       "</style>\n",
       "<table border=\"1\" class=\"dataframe\">\n",
       "  <thead>\n",
       "    <tr style=\"text-align: right;\">\n",
       "      <th></th>\n",
       "      <th>Feature</th>\n",
       "      <th>Mean</th>\n",
       "      <th>Median</th>\n",
       "      <th>Mode</th>\n",
       "    </tr>\n",
       "  </thead>\n",
       "  <tbody>\n",
       "    <tr>\n",
       "      <th>0</th>\n",
       "      <td>home_score</td>\n",
       "      <td>0.797452</td>\n",
       "      <td>0.0</td>\n",
       "      <td>0</td>\n",
       "    </tr>\n",
       "    <tr>\n",
       "      <th>1</th>\n",
       "      <td>away_score</td>\n",
       "      <td>0.623819</td>\n",
       "      <td>0.0</td>\n",
       "      <td>0</td>\n",
       "    </tr>\n",
       "    <tr>\n",
       "      <th>2</th>\n",
       "      <td>home_yellow_cards</td>\n",
       "      <td>0.523332</td>\n",
       "      <td>0.0</td>\n",
       "      <td>0</td>\n",
       "    </tr>\n",
       "    <tr>\n",
       "      <th>3</th>\n",
       "      <td>away_yellow_cards</td>\n",
       "      <td>0.603922</td>\n",
       "      <td>0.0</td>\n",
       "      <td>0</td>\n",
       "    </tr>\n",
       "    <tr>\n",
       "      <th>4</th>\n",
       "      <td>home_red_cards</td>\n",
       "      <td>0.009304</td>\n",
       "      <td>0.0</td>\n",
       "      <td>0</td>\n",
       "    </tr>\n",
       "    <tr>\n",
       "      <th>5</th>\n",
       "      <td>away_red_cards</td>\n",
       "      <td>0.015746</td>\n",
       "      <td>0.0</td>\n",
       "      <td>0</td>\n",
       "    </tr>\n",
       "    <tr>\n",
       "      <th>6</th>\n",
       "      <td>home_attacks</td>\n",
       "      <td>46.413971</td>\n",
       "      <td>43.0</td>\n",
       "      <td>0</td>\n",
       "    </tr>\n",
       "    <tr>\n",
       "      <th>7</th>\n",
       "      <td>away_attacks</td>\n",
       "      <td>43.373032</td>\n",
       "      <td>41.0</td>\n",
       "      <td>0</td>\n",
       "    </tr>\n",
       "    <tr>\n",
       "      <th>8</th>\n",
       "      <td>home_dangerous_attacks</td>\n",
       "      <td>27.644289</td>\n",
       "      <td>25.0</td>\n",
       "      <td>0</td>\n",
       "    </tr>\n",
       "    <tr>\n",
       "      <th>9</th>\n",
       "      <td>away_dangerous_attacks</td>\n",
       "      <td>24.233753</td>\n",
       "      <td>21.0</td>\n",
       "      <td>0</td>\n",
       "    </tr>\n",
       "    <tr>\n",
       "      <th>10</th>\n",
       "      <td>home_corners</td>\n",
       "      <td>2.379187</td>\n",
       "      <td>2.0</td>\n",
       "      <td>0</td>\n",
       "    </tr>\n",
       "    <tr>\n",
       "      <th>11</th>\n",
       "      <td>away_corners</td>\n",
       "      <td>1.996421</td>\n",
       "      <td>1.0</td>\n",
       "      <td>0</td>\n",
       "    </tr>\n",
       "    <tr>\n",
       "      <th>12</th>\n",
       "      <td>home_off_target</td>\n",
       "      <td>3.071429</td>\n",
       "      <td>2.0</td>\n",
       "      <td>0</td>\n",
       "    </tr>\n",
       "    <tr>\n",
       "      <th>13</th>\n",
       "      <td>away_off_target</td>\n",
       "      <td>2.596049</td>\n",
       "      <td>2.0</td>\n",
       "      <td>0</td>\n",
       "    </tr>\n",
       "    <tr>\n",
       "      <th>14</th>\n",
       "      <td>home_on_target</td>\n",
       "      <td>2.174349</td>\n",
       "      <td>2.0</td>\n",
       "      <td>0</td>\n",
       "    </tr>\n",
       "    <tr>\n",
       "      <th>15</th>\n",
       "      <td>away_on_target</td>\n",
       "      <td>1.798168</td>\n",
       "      <td>1.0</td>\n",
       "      <td>0</td>\n",
       "    </tr>\n",
       "    <tr>\n",
       "      <th>16</th>\n",
       "      <td>home_possession</td>\n",
       "      <td>51.590753</td>\n",
       "      <td>51.0</td>\n",
       "      <td>50</td>\n",
       "    </tr>\n",
       "    <tr>\n",
       "      <th>17</th>\n",
       "      <td>away_possession</td>\n",
       "      <td>48.406098</td>\n",
       "      <td>49.0</td>\n",
       "      <td>50</td>\n",
       "    </tr>\n",
       "  </tbody>\n",
       "</table>\n",
       "</div>"
      ],
      "text/plain": [
       "                   Feature       Mean  Median  Mode\n",
       "0               home_score   0.797452     0.0     0\n",
       "1               away_score   0.623819     0.0     0\n",
       "2        home_yellow_cards   0.523332     0.0     0\n",
       "3        away_yellow_cards   0.603922     0.0     0\n",
       "4           home_red_cards   0.009304     0.0     0\n",
       "5           away_red_cards   0.015746     0.0     0\n",
       "6             home_attacks  46.413971    43.0     0\n",
       "7             away_attacks  43.373032    41.0     0\n",
       "8   home_dangerous_attacks  27.644289    25.0     0\n",
       "9   away_dangerous_attacks  24.233753    21.0     0\n",
       "10            home_corners   2.379187     2.0     0\n",
       "11            away_corners   1.996421     1.0     0\n",
       "12         home_off_target   3.071429     2.0     0\n",
       "13         away_off_target   2.596049     2.0     0\n",
       "14          home_on_target   2.174349     2.0     0\n",
       "15          away_on_target   1.798168     1.0     0\n",
       "16         home_possession  51.590753    51.0    50\n",
       "17         away_possession  48.406098    49.0    50"
      ]
     },
     "execution_count": 8,
     "metadata": {},
     "output_type": "execute_result"
    }
   ],
   "source": [
    "central_tendencies"
   ]
  },
  {
   "cell_type": "markdown",
   "id": "2f500b2a-18bd-44c6-b59f-d648062011ef",
   "metadata": {
    "jp-MarkdownHeadingCollapsed": true
   },
   "source": [
    "### Calculating for Dispersion, Skewness, and Kurtosis"
   ]
  },
  {
   "cell_type": "code",
   "execution_count": 9,
   "id": "44b9b200-bad5-4309-88a0-91a95d74591b",
   "metadata": {},
   "outputs": [
    {
     "data": {
      "text/plain": [
       "'\\n    Insert purpose of these 3 \\n    Dispersion\\n        - \\n        -\\n    Skewness\\n        - \\n    Kurtosis\\n        - \\n'"
      ]
     },
     "execution_count": 9,
     "metadata": {},
     "output_type": "execute_result"
    }
   ],
   "source": [
    "'''\n",
    "    Insert purpose of these 3 \n",
    "    Dispersion\n",
    "        - \n",
    "        -\n",
    "    Skewness\n",
    "        - \n",
    "    Kurtosis\n",
    "        - \n",
    "'''"
   ]
  },
  {
   "cell_type": "code",
   "execution_count": 10,
   "id": "7b41f132-fc57-4528-b32a-a6909ac3727a",
   "metadata": {},
   "outputs": [],
   "source": [
    "# Create a DataFrame for variance and standard deviation\n",
    "dispersion_metrics = pd.DataFrame({\n",
    "    'Variance': data.iloc[:, 1:].var(),\n",
    "    'Standard Deviation': data.iloc[:, 1:].std(),\n",
    "    'Skewness': data.iloc[:, 1:].skew(),\n",
    "    'Kurtosis': data.iloc[:, 1:].kurt()\n",
    "})"
   ]
  },
  {
   "cell_type": "code",
   "execution_count": 11,
   "id": "53046c4d-93cd-40fb-9484-eff413596377",
   "metadata": {},
   "outputs": [],
   "source": [
    "dispersion_metrics = dispersion_metrics.reset_index()\n",
    "dispersion_metrics = dispersion_metrics.rename(columns={'index': 'Feature'})"
   ]
  },
  {
   "cell_type": "code",
   "execution_count": 12,
   "id": "8e0a6816-1d00-4a2b-9e8d-cdaed933af83",
   "metadata": {},
   "outputs": [
    {
     "data": {
      "text/html": [
       "<div>\n",
       "<style scoped>\n",
       "    .dataframe tbody tr th:only-of-type {\n",
       "        vertical-align: middle;\n",
       "    }\n",
       "\n",
       "    .dataframe tbody tr th {\n",
       "        vertical-align: top;\n",
       "    }\n",
       "\n",
       "    .dataframe thead th {\n",
       "        text-align: right;\n",
       "    }\n",
       "</style>\n",
       "<table border=\"1\" class=\"dataframe\">\n",
       "  <thead>\n",
       "    <tr style=\"text-align: right;\">\n",
       "      <th></th>\n",
       "      <th>Feature</th>\n",
       "      <th>Variance</th>\n",
       "      <th>Standard Deviation</th>\n",
       "      <th>Skewness</th>\n",
       "      <th>Kurtosis</th>\n",
       "    </tr>\n",
       "  </thead>\n",
       "  <tbody>\n",
       "    <tr>\n",
       "      <th>0</th>\n",
       "      <td>home_score</td>\n",
       "      <td>1.147086</td>\n",
       "      <td>1.071021</td>\n",
       "      <td>1.729078</td>\n",
       "      <td>3.941218</td>\n",
       "    </tr>\n",
       "    <tr>\n",
       "      <th>1</th>\n",
       "      <td>away_score</td>\n",
       "      <td>0.852598</td>\n",
       "      <td>0.923362</td>\n",
       "      <td>1.919960</td>\n",
       "      <td>5.296752</td>\n",
       "    </tr>\n",
       "    <tr>\n",
       "      <th>2</th>\n",
       "      <td>home_yellow_cards</td>\n",
       "      <td>0.851639</td>\n",
       "      <td>0.922843</td>\n",
       "      <td>2.171094</td>\n",
       "      <td>5.799577</td>\n",
       "    </tr>\n",
       "    <tr>\n",
       "      <th>3</th>\n",
       "      <td>away_yellow_cards</td>\n",
       "      <td>1.037516</td>\n",
       "      <td>1.018586</td>\n",
       "      <td>1.981708</td>\n",
       "      <td>4.362866</td>\n",
       "    </tr>\n",
       "    <tr>\n",
       "      <th>4</th>\n",
       "      <td>home_red_cards</td>\n",
       "      <td>0.009505</td>\n",
       "      <td>0.097496</td>\n",
       "      <td>10.684115</td>\n",
       "      <td>118.146351</td>\n",
       "    </tr>\n",
       "    <tr>\n",
       "      <th>5</th>\n",
       "      <td>away_red_cards</td>\n",
       "      <td>0.015786</td>\n",
       "      <td>0.125644</td>\n",
       "      <td>7.997090</td>\n",
       "      <td>64.188604</td>\n",
       "    </tr>\n",
       "    <tr>\n",
       "      <th>6</th>\n",
       "      <td>home_attacks</td>\n",
       "      <td>1296.518367</td>\n",
       "      <td>36.007199</td>\n",
       "      <td>0.594901</td>\n",
       "      <td>0.033739</td>\n",
       "    </tr>\n",
       "    <tr>\n",
       "      <th>7</th>\n",
       "      <td>away_attacks</td>\n",
       "      <td>1117.694757</td>\n",
       "      <td>33.431942</td>\n",
       "      <td>0.544677</td>\n",
       "      <td>-0.270753</td>\n",
       "    </tr>\n",
       "    <tr>\n",
       "      <th>8</th>\n",
       "      <td>home_dangerous_attacks</td>\n",
       "      <td>528.055699</td>\n",
       "      <td>22.979463</td>\n",
       "      <td>0.815359</td>\n",
       "      <td>0.453987</td>\n",
       "    </tr>\n",
       "    <tr>\n",
       "      <th>9</th>\n",
       "      <td>away_dangerous_attacks</td>\n",
       "      <td>418.592882</td>\n",
       "      <td>20.459543</td>\n",
       "      <td>0.898193</td>\n",
       "      <td>0.707852</td>\n",
       "    </tr>\n",
       "    <tr>\n",
       "      <th>10</th>\n",
       "      <td>home_corners</td>\n",
       "      <td>6.077671</td>\n",
       "      <td>2.465293</td>\n",
       "      <td>1.206750</td>\n",
       "      <td>1.407153</td>\n",
       "    </tr>\n",
       "    <tr>\n",
       "      <th>11</th>\n",
       "      <td>away_corners</td>\n",
       "      <td>4.833917</td>\n",
       "      <td>2.198617</td>\n",
       "      <td>1.459539</td>\n",
       "      <td>2.881374</td>\n",
       "    </tr>\n",
       "    <tr>\n",
       "      <th>12</th>\n",
       "      <td>home_off_target</td>\n",
       "      <td>9.963258</td>\n",
       "      <td>3.156463</td>\n",
       "      <td>1.275574</td>\n",
       "      <td>1.888173</td>\n",
       "    </tr>\n",
       "    <tr>\n",
       "      <th>13</th>\n",
       "      <td>away_off_target</td>\n",
       "      <td>7.553622</td>\n",
       "      <td>2.748385</td>\n",
       "      <td>1.322685</td>\n",
       "      <td>1.953805</td>\n",
       "    </tr>\n",
       "    <tr>\n",
       "      <th>14</th>\n",
       "      <td>home_on_target</td>\n",
       "      <td>5.387207</td>\n",
       "      <td>2.321036</td>\n",
       "      <td>1.396636</td>\n",
       "      <td>2.873205</td>\n",
       "    </tr>\n",
       "    <tr>\n",
       "      <th>15</th>\n",
       "      <td>away_on_target</td>\n",
       "      <td>4.108148</td>\n",
       "      <td>2.026857</td>\n",
       "      <td>1.504663</td>\n",
       "      <td>3.274469</td>\n",
       "    </tr>\n",
       "    <tr>\n",
       "      <th>16</th>\n",
       "      <td>home_possession</td>\n",
       "      <td>109.897919</td>\n",
       "      <td>10.483221</td>\n",
       "      <td>-0.042671</td>\n",
       "      <td>2.192167</td>\n",
       "    </tr>\n",
       "    <tr>\n",
       "      <th>17</th>\n",
       "      <td>away_possession</td>\n",
       "      <td>109.940000</td>\n",
       "      <td>10.485228</td>\n",
       "      <td>0.038980</td>\n",
       "      <td>2.193025</td>\n",
       "    </tr>\n",
       "  </tbody>\n",
       "</table>\n",
       "</div>"
      ],
      "text/plain": [
       "                   Feature     Variance  Standard Deviation   Skewness  \\\n",
       "0               home_score     1.147086            1.071021   1.729078   \n",
       "1               away_score     0.852598            0.923362   1.919960   \n",
       "2        home_yellow_cards     0.851639            0.922843   2.171094   \n",
       "3        away_yellow_cards     1.037516            1.018586   1.981708   \n",
       "4           home_red_cards     0.009505            0.097496  10.684115   \n",
       "5           away_red_cards     0.015786            0.125644   7.997090   \n",
       "6             home_attacks  1296.518367           36.007199   0.594901   \n",
       "7             away_attacks  1117.694757           33.431942   0.544677   \n",
       "8   home_dangerous_attacks   528.055699           22.979463   0.815359   \n",
       "9   away_dangerous_attacks   418.592882           20.459543   0.898193   \n",
       "10            home_corners     6.077671            2.465293   1.206750   \n",
       "11            away_corners     4.833917            2.198617   1.459539   \n",
       "12         home_off_target     9.963258            3.156463   1.275574   \n",
       "13         away_off_target     7.553622            2.748385   1.322685   \n",
       "14          home_on_target     5.387207            2.321036   1.396636   \n",
       "15          away_on_target     4.108148            2.026857   1.504663   \n",
       "16         home_possession   109.897919           10.483221  -0.042671   \n",
       "17         away_possession   109.940000           10.485228   0.038980   \n",
       "\n",
       "      Kurtosis  \n",
       "0     3.941218  \n",
       "1     5.296752  \n",
       "2     5.799577  \n",
       "3     4.362866  \n",
       "4   118.146351  \n",
       "5    64.188604  \n",
       "6     0.033739  \n",
       "7    -0.270753  \n",
       "8     0.453987  \n",
       "9     0.707852  \n",
       "10    1.407153  \n",
       "11    2.881374  \n",
       "12    1.888173  \n",
       "13    1.953805  \n",
       "14    2.873205  \n",
       "15    3.274469  \n",
       "16    2.192167  \n",
       "17    2.193025  "
      ]
     },
     "execution_count": 12,
     "metadata": {},
     "output_type": "execute_result"
    }
   ],
   "source": [
    "dispersion_metrics"
   ]
  },
  {
   "cell_type": "markdown",
   "id": "b02e0088-3349-420b-b207-eb7203572029",
   "metadata": {},
   "source": [
    "### Insights"
   ]
  },
  {
   "cell_type": "markdown",
   "id": "9bda817b-7ab9-4757-bc62-f701907e6403",
   "metadata": {},
   "source": [
    "Insert insights here"
   ]
  },
  {
   "cell_type": "code",
   "execution_count": 13,
   "id": "73b2f635-d4e9-440e-9350-4d975cb69cf5",
   "metadata": {},
   "outputs": [
    {
     "data": {
      "text/plain": [
       "(6986, 19)"
      ]
     },
     "execution_count": 13,
     "metadata": {},
     "output_type": "execute_result"
    }
   ],
   "source": [
    "data.shape"
   ]
  },
  {
   "cell_type": "code",
   "execution_count": 14,
   "id": "53593bdd-2612-4c1c-9a31-b44778448526",
   "metadata": {},
   "outputs": [
    {
     "data": {
      "text/plain": [
       "167"
      ]
     },
     "execution_count": 14,
     "metadata": {},
     "output_type": "execute_result"
    }
   ],
   "source": [
    "len(data[ (data['current_minute'] > 105)])"
   ]
  },
  {
   "cell_type": "code",
   "execution_count": 15,
   "id": "405c314c-eef8-455a-a931-b5fe997db42d",
   "metadata": {},
   "outputs": [
    {
     "data": {
      "text/html": [
       "<div>\n",
       "<style scoped>\n",
       "    .dataframe tbody tr th:only-of-type {\n",
       "        vertical-align: middle;\n",
       "    }\n",
       "\n",
       "    .dataframe tbody tr th {\n",
       "        vertical-align: top;\n",
       "    }\n",
       "\n",
       "    .dataframe thead th {\n",
       "        text-align: right;\n",
       "    }\n",
       "</style>\n",
       "<table border=\"1\" class=\"dataframe\">\n",
       "  <thead>\n",
       "    <tr style=\"text-align: right;\">\n",
       "      <th></th>\n",
       "      <th>current_minute</th>\n",
       "      <th>home_score</th>\n",
       "      <th>away_score</th>\n",
       "      <th>home_yellow_cards</th>\n",
       "      <th>away_yellow_cards</th>\n",
       "      <th>home_red_cards</th>\n",
       "      <th>away_red_cards</th>\n",
       "      <th>home_attacks</th>\n",
       "      <th>away_attacks</th>\n",
       "      <th>home_dangerous_attacks</th>\n",
       "      <th>away_dangerous_attacks</th>\n",
       "      <th>home_corners</th>\n",
       "      <th>away_corners</th>\n",
       "      <th>home_off_target</th>\n",
       "      <th>away_off_target</th>\n",
       "      <th>home_on_target</th>\n",
       "      <th>away_on_target</th>\n",
       "      <th>home_possession</th>\n",
       "      <th>away_possession</th>\n",
       "    </tr>\n",
       "  </thead>\n",
       "  <tbody>\n",
       "  </tbody>\n",
       "</table>\n",
       "</div>"
      ],
      "text/plain": [
       "Empty DataFrame\n",
       "Columns: [current_minute, home_score, away_score, home_yellow_cards, away_yellow_cards, home_red_cards, away_red_cards, home_attacks, away_attacks, home_dangerous_attacks, away_dangerous_attacks, home_corners, away_corners, home_off_target, away_off_target, home_on_target, away_on_target, home_possession, away_possession]\n",
       "Index: []"
      ]
     },
     "execution_count": 15,
     "metadata": {},
     "output_type": "execute_result"
    }
   ],
   "source": [
    "#Handling Outliers\n",
    "data[data['current_minute'] < 0]"
   ]
  },
  {
   "cell_type": "code",
   "execution_count": 16,
   "id": "eff49f8f-a17d-4552-9ecc-3de11fc1953d",
   "metadata": {},
   "outputs": [
    {
     "data": {
      "image/png": "[encoded data removed]",
      "text/plain": [
       "<Figure size 640x480 with 1 Axes>"
      ]
     },
     "metadata": {},
     "output_type": "display_data"
    }
   ],
   "source": [
    "# Plot the histogram\n",
    "def plot_histogram(col_name, bin_count = 5):\n",
    "    data_for_hist = data[col_name]\n",
    "    plt.hist(data_for_hist, bins=bin_count, edgecolor='black')\n",
    "\n",
    "    # Add labels and a title\n",
    "    plt.xlabel('Values')\n",
    "    plt.ylabel('Frequency')\n",
    "    plt.title('Distribution of '+col_name)\n",
    "\n",
    "    # Display the plot\n",
    "    plt.show()\n",
    "    \n",
    "plot_histogram('current_minute',150)"
   ]
  },
  {
   "cell_type": "code",
   "execution_count": 17,
   "id": "4f7017d0-78ee-40be-b833-d7fac619a89b",
   "metadata": {},
   "outputs": [
    {
     "name": "stdout",
     "output_type": "stream",
     "text": [
      "home_red_cards value count:\n",
      "0: 6922\n",
      "1: 63\n",
      "2: 1\n"
     ]
    }
   ],
   "source": [
    "from collections import Counter\n",
    "\n",
    "def check_value_counts(col_name, df_name =\"\"):\n",
    "    if(type(col_name) == str):\n",
    "        value_counts = Counter(data[col_name])\n",
    "        print(col_name+\" value count:\")\n",
    "    else:\n",
    "        value_counts = Counter(col_name)\n",
    "        print(df_name+\" value count:\")\n",
    "    value_counts = value_counts.most_common()\n",
    "\n",
    "    # Display the counts\n",
    "    for value, count in value_counts:\n",
    "        print(f\"{value}: {count}\")\n",
    "        \n",
    "check_value_counts('home_red_cards')"
   ]
  },
  {
   "cell_type": "code",
   "execution_count": 18,
   "id": "bb6b87ad-547c-4726-91e1-f8bab50a16fd",
   "metadata": {},
   "outputs": [],
   "source": [
    "score_snapshot = data[['home_score','away_score']]"
   ]
  },
  {
   "cell_type": "code",
   "execution_count": 19,
   "id": "852b0c85-436f-4a44-9291-b07eed0e3d39",
   "metadata": {},
   "outputs": [
    {
     "data": {
      "text/html": [
       "<div>\n",
       "<style scoped>\n",
       "    .dataframe tbody tr th:only-of-type {\n",
       "        vertical-align: middle;\n",
       "    }\n",
       "\n",
       "    .dataframe tbody tr th {\n",
       "        vertical-align: top;\n",
       "    }\n",
       "\n",
       "    .dataframe thead th {\n",
       "        text-align: right;\n",
       "    }\n",
       "</style>\n",
       "<table border=\"1\" class=\"dataframe\">\n",
       "  <thead>\n",
       "    <tr style=\"text-align: right;\">\n",
       "      <th></th>\n",
       "      <th>home_score</th>\n",
       "      <th>away_score</th>\n",
       "    </tr>\n",
       "  </thead>\n",
       "  <tbody>\n",
       "    <tr>\n",
       "      <th>0</th>\n",
       "      <td>1</td>\n",
       "      <td>2</td>\n",
       "    </tr>\n",
       "    <tr>\n",
       "      <th>1</th>\n",
       "      <td>2</td>\n",
       "      <td>0</td>\n",
       "    </tr>\n",
       "    <tr>\n",
       "      <th>2</th>\n",
       "      <td>0</td>\n",
       "      <td>0</td>\n",
       "    </tr>\n",
       "    <tr>\n",
       "      <th>3</th>\n",
       "      <td>0</td>\n",
       "      <td>0</td>\n",
       "    </tr>\n",
       "    <tr>\n",
       "      <th>4</th>\n",
       "      <td>1</td>\n",
       "      <td>0</td>\n",
       "    </tr>\n",
       "    <tr>\n",
       "      <th>...</th>\n",
       "      <td>...</td>\n",
       "      <td>...</td>\n",
       "    </tr>\n",
       "    <tr>\n",
       "      <th>6995</th>\n",
       "      <td>0</td>\n",
       "      <td>0</td>\n",
       "    </tr>\n",
       "    <tr>\n",
       "      <th>6996</th>\n",
       "      <td>3</td>\n",
       "      <td>0</td>\n",
       "    </tr>\n",
       "    <tr>\n",
       "      <th>6997</th>\n",
       "      <td>1</td>\n",
       "      <td>0</td>\n",
       "    </tr>\n",
       "    <tr>\n",
       "      <th>6998</th>\n",
       "      <td>2</td>\n",
       "      <td>0</td>\n",
       "    </tr>\n",
       "    <tr>\n",
       "      <th>6999</th>\n",
       "      <td>0</td>\n",
       "      <td>0</td>\n",
       "    </tr>\n",
       "  </tbody>\n",
       "</table>\n",
       "<p>6986 rows × 2 columns</p>\n",
       "</div>"
      ],
      "text/plain": [
       "      home_score  away_score\n",
       "0              1           2\n",
       "1              2           0\n",
       "2              0           0\n",
       "3              0           0\n",
       "4              1           0\n",
       "...          ...         ...\n",
       "6995           0           0\n",
       "6996           3           0\n",
       "6997           1           0\n",
       "6998           2           0\n",
       "6999           0           0\n",
       "\n",
       "[6986 rows x 2 columns]"
      ]
     },
     "execution_count": 19,
     "metadata": {},
     "output_type": "execute_result"
    }
   ],
   "source": [
    "score_snapshot"
   ]
  },
  {
   "cell_type": "code",
   "execution_count": 20,
   "id": "9c1e3b6d-02ec-4694-bff1-02030e0e02c5",
   "metadata": {},
   "outputs": [
    {
     "name": "stderr",
     "output_type": "stream",
     "text": [
      "C:\\Users\\Leela\\AppData\\Local\\Temp\\ipykernel_6720\\4240811586.py:1: SettingWithCopyWarning: \n",
      "A value is trying to be set on a copy of a slice from a DataFrame.\n",
      "Try using .loc[row_indexer,col_indexer] = value instead\n",
      "\n",
      "See the caveats in the documentation: https://pandas.pydata.org/pandas-docs/stable/user_guide/indexing.html#returning-a-view-versus-a-copy\n",
      "  score_snapshot.loc[:,('Difference')] = score_snapshot['home_score'] - score_snapshot['away_score']\n"
     ]
    }
   ],
   "source": [
    "score_snapshot.loc[:,('Difference')] = score_snapshot['home_score'] - score_snapshot['away_score'] \n",
    "score_snapshot.loc[:,('Difference')] = np.where(score_snapshot.loc[:,('Difference')] < 0, -1,\n",
    "                                       np.where(score_snapshot.loc[:,('Difference')] > 0, 1,\n",
    "                                                0))"
   ]
  },
  {
   "cell_type": "code",
   "execution_count": 21,
   "id": "d0e0dcb7-a47d-4e99-880e-c77ab9999c85",
   "metadata": {},
   "outputs": [
    {
     "data": {
      "text/html": [
       "<div>\n",
       "<style scoped>\n",
       "    .dataframe tbody tr th:only-of-type {\n",
       "        vertical-align: middle;\n",
       "    }\n",
       "\n",
       "    .dataframe tbody tr th {\n",
       "        vertical-align: top;\n",
       "    }\n",
       "\n",
       "    .dataframe thead th {\n",
       "        text-align: right;\n",
       "    }\n",
       "</style>\n",
       "<table border=\"1\" class=\"dataframe\">\n",
       "  <thead>\n",
       "    <tr style=\"text-align: right;\">\n",
       "      <th></th>\n",
       "      <th>home_score</th>\n",
       "      <th>away_score</th>\n",
       "      <th>Difference</th>\n",
       "    </tr>\n",
       "  </thead>\n",
       "  <tbody>\n",
       "    <tr>\n",
       "      <th>0</th>\n",
       "      <td>1</td>\n",
       "      <td>2</td>\n",
       "      <td>-1</td>\n",
       "    </tr>\n",
       "    <tr>\n",
       "      <th>1</th>\n",
       "      <td>2</td>\n",
       "      <td>0</td>\n",
       "      <td>1</td>\n",
       "    </tr>\n",
       "    <tr>\n",
       "      <th>2</th>\n",
       "      <td>0</td>\n",
       "      <td>0</td>\n",
       "      <td>0</td>\n",
       "    </tr>\n",
       "    <tr>\n",
       "      <th>3</th>\n",
       "      <td>0</td>\n",
       "      <td>0</td>\n",
       "      <td>0</td>\n",
       "    </tr>\n",
       "    <tr>\n",
       "      <th>4</th>\n",
       "      <td>1</td>\n",
       "      <td>0</td>\n",
       "      <td>1</td>\n",
       "    </tr>\n",
       "    <tr>\n",
       "      <th>...</th>\n",
       "      <td>...</td>\n",
       "      <td>...</td>\n",
       "      <td>...</td>\n",
       "    </tr>\n",
       "    <tr>\n",
       "      <th>6995</th>\n",
       "      <td>0</td>\n",
       "      <td>0</td>\n",
       "      <td>0</td>\n",
       "    </tr>\n",
       "    <tr>\n",
       "      <th>6996</th>\n",
       "      <td>3</td>\n",
       "      <td>0</td>\n",
       "      <td>1</td>\n",
       "    </tr>\n",
       "    <tr>\n",
       "      <th>6997</th>\n",
       "      <td>1</td>\n",
       "      <td>0</td>\n",
       "      <td>1</td>\n",
       "    </tr>\n",
       "    <tr>\n",
       "      <th>6998</th>\n",
       "      <td>2</td>\n",
       "      <td>0</td>\n",
       "      <td>1</td>\n",
       "    </tr>\n",
       "    <tr>\n",
       "      <th>6999</th>\n",
       "      <td>0</td>\n",
       "      <td>0</td>\n",
       "      <td>0</td>\n",
       "    </tr>\n",
       "  </tbody>\n",
       "</table>\n",
       "<p>6986 rows × 3 columns</p>\n",
       "</div>"
      ],
      "text/plain": [
       "      home_score  away_score  Difference\n",
       "0              1           2          -1\n",
       "1              2           0           1\n",
       "2              0           0           0\n",
       "3              0           0           0\n",
       "4              1           0           1\n",
       "...          ...         ...         ...\n",
       "6995           0           0           0\n",
       "6996           3           0           1\n",
       "6997           1           0           1\n",
       "6998           2           0           1\n",
       "6999           0           0           0\n",
       "\n",
       "[6986 rows x 3 columns]"
      ]
     },
     "execution_count": 21,
     "metadata": {},
     "output_type": "execute_result"
    }
   ],
   "source": [
    "score_snapshot"
   ]
  },
  {
   "cell_type": "code",
   "execution_count": 22,
   "id": "4a505351-27f4-4ab6-b1c3-f1a1c26a30c8",
   "metadata": {},
   "outputs": [
    {
     "name": "stdout",
     "output_type": "stream",
     "text": [
      "Difference value count:\n",
      "0: 3059\n",
      "1: 2273\n",
      "-1: 1654\n"
     ]
    }
   ],
   "source": [
    "check_value_counts(score_snapshot['Difference'],\"Difference\")"
   ]
  },
  {
   "cell_type": "code",
   "execution_count": 23,
   "id": "e56899c7-f078-4a02-a64f-210d801f9520",
   "metadata": {},
   "outputs": [
    {
     "data": {
      "text/html": [
       "<div>\n",
       "<style scoped>\n",
       "    .dataframe tbody tr th:only-of-type {\n",
       "        vertical-align: middle;\n",
       "    }\n",
       "\n",
       "    .dataframe tbody tr th {\n",
       "        vertical-align: top;\n",
       "    }\n",
       "\n",
       "    .dataframe thead th {\n",
       "        text-align: right;\n",
       "    }\n",
       "</style>\n",
       "<table border=\"1\" class=\"dataframe\">\n",
       "  <thead>\n",
       "    <tr style=\"text-align: right;\">\n",
       "      <th></th>\n",
       "      <th>home_score</th>\n",
       "      <th>away_score</th>\n",
       "      <th>Difference</th>\n",
       "    </tr>\n",
       "  </thead>\n",
       "  <tbody>\n",
       "    <tr>\n",
       "      <th>0</th>\n",
       "      <td>1</td>\n",
       "      <td>2</td>\n",
       "      <td>-1</td>\n",
       "    </tr>\n",
       "    <tr>\n",
       "      <th>1</th>\n",
       "      <td>2</td>\n",
       "      <td>0</td>\n",
       "      <td>1</td>\n",
       "    </tr>\n",
       "    <tr>\n",
       "      <th>2</th>\n",
       "      <td>0</td>\n",
       "      <td>0</td>\n",
       "      <td>0</td>\n",
       "    </tr>\n",
       "    <tr>\n",
       "      <th>3</th>\n",
       "      <td>0</td>\n",
       "      <td>0</td>\n",
       "      <td>0</td>\n",
       "    </tr>\n",
       "    <tr>\n",
       "      <th>4</th>\n",
       "      <td>1</td>\n",
       "      <td>0</td>\n",
       "      <td>1</td>\n",
       "    </tr>\n",
       "    <tr>\n",
       "      <th>...</th>\n",
       "      <td>...</td>\n",
       "      <td>...</td>\n",
       "      <td>...</td>\n",
       "    </tr>\n",
       "    <tr>\n",
       "      <th>6995</th>\n",
       "      <td>0</td>\n",
       "      <td>0</td>\n",
       "      <td>0</td>\n",
       "    </tr>\n",
       "    <tr>\n",
       "      <th>6996</th>\n",
       "      <td>3</td>\n",
       "      <td>0</td>\n",
       "      <td>1</td>\n",
       "    </tr>\n",
       "    <tr>\n",
       "      <th>6997</th>\n",
       "      <td>1</td>\n",
       "      <td>0</td>\n",
       "      <td>1</td>\n",
       "    </tr>\n",
       "    <tr>\n",
       "      <th>6998</th>\n",
       "      <td>2</td>\n",
       "      <td>0</td>\n",
       "      <td>1</td>\n",
       "    </tr>\n",
       "    <tr>\n",
       "      <th>6999</th>\n",
       "      <td>0</td>\n",
       "      <td>0</td>\n",
       "      <td>0</td>\n",
       "    </tr>\n",
       "  </tbody>\n",
       "</table>\n",
       "<p>6986 rows × 3 columns</p>\n",
       "</div>"
      ],
      "text/plain": [
       "      home_score  away_score  Difference\n",
       "0              1           2          -1\n",
       "1              2           0           1\n",
       "2              0           0           0\n",
       "3              0           0           0\n",
       "4              1           0           1\n",
       "...          ...         ...         ...\n",
       "6995           0           0           0\n",
       "6996           3           0           1\n",
       "6997           1           0           1\n",
       "6998           2           0           1\n",
       "6999           0           0           0\n",
       "\n",
       "[6986 rows x 3 columns]"
      ]
     },
     "execution_count": 23,
     "metadata": {},
     "output_type": "execute_result"
    }
   ],
   "source": [
    "score_snapshot"
   ]
  },
  {
   "cell_type": "code",
   "execution_count": 24,
   "id": "38652046-c906-44bc-88e2-cdd093b508f4",
   "metadata": {},
   "outputs": [],
   "source": [
    "#Given the current minute, what is the average home score?\n",
    "test_df = data[['current_minute','home_score']]"
   ]
  },
  {
   "cell_type": "code",
   "execution_count": 25,
   "id": "c385c5db-0fb3-424e-b109-e7132e4a4c81",
   "metadata": {},
   "outputs": [],
   "source": [
    "# Group the data by 'current_minute' and calculate the average home score\n",
    "average_home_score = test_df.groupby('current_minute')['home_score'].mean()"
   ]
  },
  {
   "cell_type": "code",
   "execution_count": 26,
   "id": "64845333-918b-492d-8ed8-3d778905d36e",
   "metadata": {},
   "outputs": [
    {
     "data": {
      "text/plain": [
       "\"\\n    We'll use 110 because from the 95 - 110 minute mark, there are about 1000+ entries (Confirm)\\n    While games that pass the 110 mark, are 63 entries in total.\""
      ]
     },
     "execution_count": 26,
     "metadata": {},
     "output_type": "execute_result"
    }
   ],
   "source": [
    "#Now, the average football game lasts about 90 - 95 minutes. Depending on the circumstance -- referees can extend this time.\n",
    "#To give allowances to the number of games that are long but not too long, we need to find the optimal number of minutes that could capture games that extended.\n",
    "'''\n",
    "    We'll use 110 because from the 95 - 110 minute mark, there are about 1000+ entries (Confirm)\n",
    "    While games that pass the 110 mark, are 63 entries in total.'''"
   ]
  },
  {
   "cell_type": "code",
   "execution_count": 27,
   "id": "da638c00-0e1a-4806-9257-dfd38fdbbf6b",
   "metadata": {},
   "outputs": [
    {
     "data": {
      "image/png": "[encoded data removed]",
      "text/plain": [
       "<Figure size 800x600 with 1 Axes>"
      ]
     },
     "metadata": {},
     "output_type": "display_data"
    }
   ],
   "source": [
    "# Extract the 'current_minute' values and the corresponding averages\n",
    "minutes = average_home_score[average_home_score.index <= 110].index\n",
    "average_scores = average_home_score[average_home_score.index <= 110].values\n",
    "\n",
    "# Create a line plot\n",
    "plt.figure(figsize=(8, 6))\n",
    "plt.plot(minutes, average_scores, marker='o', linestyle='-')\n",
    "\n",
    "# Add labels and title\n",
    "plt.xlabel('Current Minute')\n",
    "plt.ylabel('Average Home Score')\n",
    "plt.title('Average Home Score Over Time')\n",
    "\n",
    "# Show the plot\n",
    "plt.grid()\n",
    "plt.show()"
   ]
  },
  {
   "cell_type": "code",
   "execution_count": 28,
   "id": "496bba51-1051-4333-9200-59417411be37",
   "metadata": {},
   "outputs": [],
   "source": [
    "#We could see that as the game progresses, the average score falls between 0 - 2 points.\n",
    "#We could also see that there are outliers where it flattens or drops significantly. "
   ]
  },
  {
   "cell_type": "code",
   "execution_count": null,
   "id": "e0cfb05b-033f-4c19-a424-2d9f3158c7cd",
   "metadata": {},
   "outputs": [],
   "source": []
  },
  {
   "cell_type": "code",
   "execution_count": 29,
   "id": "44e24e4d-fd8a-42fb-9826-5a99cc8faa21",
   "metadata": {},
   "outputs": [],
   "source": [
    "#Given the current minute, what is the average home score?\n",
    "test_df = data[['current_minute','away_score']]"
   ]
  },
  {
   "cell_type": "code",
   "execution_count": 30,
   "id": "a475d334-45f3-4ed0-9ca1-5544251cf792",
   "metadata": {},
   "outputs": [],
   "source": [
    "# Group the data by 'current_minute' and calculate the average home score\n",
    "average_away_score = test_df.groupby('current_minute')['away_score'].mean()"
   ]
  },
  {
   "cell_type": "code",
   "execution_count": 31,
   "id": "f940e62c-b131-4268-a340-ca3a109283b3",
   "metadata": {},
   "outputs": [
    {
     "data": {
      "text/plain": [
       "\"\\n    We'll use 110 because from the 95 - 110 minute mark, there are about 1000+ entries (Confirm)\\n    While games that pass the 110 mark, are 63 entries in total.\""
      ]
     },
     "execution_count": 31,
     "metadata": {},
     "output_type": "execute_result"
    }
   ],
   "source": [
    "#Now, the average football game lasts about 90 - 95 minutes. Depending on the circumstance -- referees can extend this time.\n",
    "#To give allowances to the number of games that are long but not too long, we need to find the optimal number of minutes that could capture games that extended.\n",
    "'''\n",
    "    We'll use 110 because from the 95 - 110 minute mark, there are about 1000+ entries (Confirm)\n",
    "    While games that pass the 110 mark, are 63 entries in total.'''"
   ]
  },
  {
   "cell_type": "code",
   "execution_count": 32,
   "id": "fc77ccfe-e1c0-4f06-8e24-c0223ef12887",
   "metadata": {},
   "outputs": [
    {
     "data": {
      "image/png": "[encoded data removed]",
      "text/plain": [
       "<Figure size 800x600 with 1 Axes>"
      ]
     },
     "metadata": {},
     "output_type": "display_data"
    }
   ],
   "source": [
    "# Extract the 'current_minute' values and the corresponding averages\n",
    "minutes = average_away_score[average_away_score.index <= 110].index\n",
    "average_scores = average_away_score[average_away_score.index <= 110].values\n",
    "\n",
    "# Create a line plot\n",
    "plt.figure(figsize=(8, 6))\n",
    "plt.plot(minutes, average_scores, marker='o', linestyle='-')\n",
    "\n",
    "# Add labels and title\n",
    "plt.xlabel('Current Minute')\n",
    "plt.ylabel('Average Away Score')\n",
    "plt.title('Average Away Score Over Time')\n",
    "\n",
    "# Show the plot\n",
    "plt.grid()\n",
    "plt.show()"
   ]
  },
  {
   "cell_type": "code",
   "execution_count": 33,
   "id": "2be8dfd7-36aa-45f4-a600-8da8e484f081",
   "metadata": {},
   "outputs": [
    {
     "data": {
      "text/plain": [
       "current_minute\n",
       "0      0.000000\n",
       "1      0.000000\n",
       "2      0.067797\n",
       "3      0.013699\n",
       "4      0.081395\n",
       "         ...   \n",
       "106    1.151515\n",
       "107    1.375000\n",
       "108    1.095238\n",
       "109    1.538462\n",
       "110    1.153846\n",
       "Name: away_score, Length: 111, dtype: float64"
      ]
     },
     "execution_count": 33,
     "metadata": {},
     "output_type": "execute_result"
    }
   ],
   "source": [
    "average_away_score[average_away_score.index <= 110]"
   ]
  },
  {
   "cell_type": "markdown",
   "id": "5afb4852-fd6f-42d1-9e8c-92328dd3e46d",
   "metadata": {},
   "source": [
    "## 6. Model Training and Hyperparameter Tuning"
   ]
  },
  {
   "cell_type": "markdown",
   "id": "5aa8b561-f451-4edb-95e5-fbdb946950aa",
   "metadata": {},
   "source": [
    "Given our identified task of (insert task here), we selected K-Nearest Neighbors, Logistic Regression, and Random Forest models to address this."
   ]
  },
  {
   "cell_type": "markdown",
   "id": "88fcfb9d-40f6-4145-b06c-a58534239bb8",
   "metadata": {},
   "source": [
    "Here we extract the target values for each instance which will be assigned to the `target` column. These are computed based on the values of the `home_score` and `away_score` columns where:"
   ]
  },
  {
   "cell_type": "markdown",
   "id": "bbd23172-fa43-4def-8de6-55ede21ca638",
   "metadata": {},
   "source": [
    "1. If `home_score` > `away_score`, `target` = 0\n",
    "2. Else if `home_score` < `away_score`, `target` = 1\n",
    "3. Else `target` = 2 (indicating that the scores are equal)"
   ]
  },
  {
   "cell_type": "code",
   "execution_count": 34,
   "id": "21e455fb-7446-4fbb-8477-312f2ba893c4",
   "metadata": {},
   "outputs": [],
   "source": [
    "data['target'] = np.where(data['home_score'] > data['away_score'], \"Home Advantage\", np.where(data['home_score'] < data['away_score'], \"Away Advantage\", \"Balanced\"))"
   ]
  },
  {
   "cell_type": "code",
   "execution_count": 35,
   "id": "b13af625-1b1f-4b2d-8ae6-828696a4e8fa",
   "metadata": {},
   "outputs": [
    {
     "name": "stdout",
     "output_type": "stream",
     "text": [
      "0       Away Advantage\n",
      "1       Home Advantage\n",
      "2             Balanced\n",
      "3             Balanced\n",
      "4       Home Advantage\n",
      "             ...      \n",
      "6995          Balanced\n",
      "6996    Home Advantage\n",
      "6997    Home Advantage\n",
      "6998    Home Advantage\n",
      "6999          Balanced\n",
      "Name: target, Length: 6986, dtype: object\n"
     ]
    }
   ],
   "source": [
    "print(data['target'])"
   ]
  },
  {
   "cell_type": "markdown",
   "id": "7ffeab31-8b03-46c0-b21e-b717d1faac57",
   "metadata": {},
   "source": [
    "In order for the model to make predictions based on the other features of the game, the `home_score` and `away_score` columns are dropped."
   ]
  },
  {
   "cell_type": "code",
   "execution_count": 36,
   "id": "d20efe70-9530-4aa3-b34b-b9a97e29acb0",
   "metadata": {},
   "outputs": [],
   "source": [
    "data.drop([\"home_score\", \"away_score\"], axis=1, inplace=True)"
   ]
  },
  {
   "cell_type": "markdown",
   "id": "219ea5c0-1283-4254-84e0-a82b69d357c3",
   "metadata": {},
   "source": [
    "After establishing the target values, the data is split into the feature matrix and target vector."
   ]
  },
  {
   "cell_type": "code",
   "execution_count": 37,
   "id": "a4b42b66-031a-424e-b418-f305e7c95967",
   "metadata": {},
   "outputs": [
    {
     "name": "stdout",
     "output_type": "stream",
     "text": [
      "Shape of X: (6986, 17)\n",
      "Shape of y: (6986,)\n"
     ]
    }
   ],
   "source": [
    "X = data.iloc[:, :-1].values\n",
    "y = data.iloc[:, -1].values\n",
    "\n",
    "print(f\"Shape of X: {X.shape}\")\n",
    "print(f\"Shape of y: {y.shape}\")"
   ]
  },
  {
   "cell_type": "markdown",
   "id": "2b0fb400-e9e5-47bc-9770-ac9a627eec19",
   "metadata": {},
   "source": [
    "To maintain consistency among outputs of various operations, a random seed or state is identified."
   ]
  },
  {
   "cell_type": "code",
   "execution_count": 38,
   "id": "c604ed94-880f-4d94-adc2-e3ad3450d74e",
   "metadata": {},
   "outputs": [],
   "source": [
    "random_state = 42\n",
    "np.random.seed(random_state)"
   ]
  },
  {
   "cell_type": "markdown",
   "id": "a2d965d5-30bb-44d3-a912-8e0295bfa649",
   "metadata": {},
   "source": [
    "We defined a function to compute accuracy as this will be used often."
   ]
  },
  {
   "cell_type": "code",
   "execution_count": 39,
   "id": "4b885b43-5f9c-42f7-a877-457cc1ef18e0",
   "metadata": {},
   "outputs": [],
   "source": [
    "def compute_accuracy(predictions, actual):\n",
    "    return round(((predictions == actual).sum() / actual.size) * 100, 4)"
   ]
  },
  {
   "cell_type": "markdown",
   "id": "ef6234a0-c9f7-4942-9a64-fd64ae4e327c",
   "metadata": {
    "jp-MarkdownHeadingCollapsed": true
   },
   "source": [
    "### K-Nearest Neighbors"
   ]
  },
  {
   "cell_type": "markdown",
   "id": "1d6568da-8d3b-4b90-92c6-612a6431e363",
   "metadata": {},
   "source": [
    "K-Nearest Neighbors (KNN) is a simple and effective algorithm for classification. KNN predicts the label of a new data point by locating the K-nearest neighbors to a given data point and utilizing their labels. KNN is an excellent choice for this assignment since it can manage non-linear correlations between predictor and outcome variables. Furthermore, KNN is a basic algorithm that is straightforward to build and comprehend. To achieve the best results, it is critical to select an acceptable value of K and distance measure (LaViale, 2023)."
   ]
  },
  {
   "cell_type": "markdown",
   "id": "7979e8d0-3c6b-4c31-afb3-b834c53e35af",
   "metadata": {
    "jp-MarkdownHeadingCollapsed": true
   },
   "source": [
    "#### K-Nearest Neighbors Model Training"
   ]
  },
  {
   "cell_type": "code",
   "execution_count": 40,
   "id": "00331660",
   "metadata": {},
   "outputs": [],
   "source": [
    "# import knn\n",
    "from sklearn.neighbors import KNeighborsClassifier"
   ]
  },
  {
   "cell_type": "code",
   "execution_count": 41,
   "id": "1343822b",
   "metadata": {},
   "outputs": [],
   "source": [
    "# Standardize the data\n",
    "from sklearn.preprocessing import StandardScaler\n",
    "\n",
    "scaler = StandardScaler()\n",
    "X = scaler.fit_transform(X)"
   ]
  },
  {
   "cell_type": "markdown",
   "id": "f33aec05",
   "metadata": {},
   "source": [
    "We need to standardize the data as there are features on different scales, which may affect the output. We observed that there was a slight increase in accuracy when we standardized the data compared to the unstandardized data."
   ]
  },
  {
   "cell_type": "code",
   "execution_count": 42,
   "id": "abe23afa",
   "metadata": {},
   "outputs": [],
   "source": [
    "# Splitting data into train and test\n",
    "X_train, X_test, y_train, y_test = train_test_split(X, y, test_size=0.3, random_state=42)"
   ]
  },
  {
   "cell_type": "code",
   "execution_count": 43,
   "id": "70cbfafb",
   "metadata": {},
   "outputs": [
    {
     "data": {
      "text/html": [
       "<style>#sk-container-id-1 {color: black;}#sk-container-id-1 pre{padding: 0;}#sk-container-id-1 div.sk-toggleable {background-color: white;}#sk-container-id-1 label.sk-toggleable__label {cursor: pointer;display: block;width: 100%;margin-bottom: 0;padding: 0.3em;box-sizing: border-box;text-align: center;}#sk-container-id-1 label.sk-toggleable__label-arrow:before {content: \"▸\";float: left;margin-right: 0.25em;color: #696969;}#sk-container-id-1 label.sk-toggleable__label-arrow:hover:before {color: black;}#sk-container-id-1 div.sk-estimator:hover label.sk-toggleable__label-arrow:before {color: black;}#sk-container-id-1 div.sk-toggleable__content {max-height: 0;max-width: 0;overflow: hidden;text-align: left;background-color: #f0f8ff;}#sk-container-id-1 div.sk-toggleable__content pre {margin: 0.2em;color: black;border-radius: 0.25em;background-color: #f0f8ff;}#sk-container-id-1 input.sk-toggleable__control:checked~div.sk-toggleable__content {max-height: 200px;max-width: 100%;overflow: auto;}#sk-container-id-1 input.sk-toggleable__control:checked~label.sk-toggleable__label-arrow:before {content: \"▾\";}#sk-container-id-1 div.sk-estimator input.sk-toggleable__control:checked~label.sk-toggleable__label {background-color: #d4ebff;}#sk-container-id-1 div.sk-label input.sk-toggleable__control:checked~label.sk-toggleable__label {background-color: #d4ebff;}#sk-container-id-1 input.sk-hidden--visually {border: 0;clip: rect(1px 1px 1px 1px);clip: rect(1px, 1px, 1px, 1px);height: 1px;margin: -1px;overflow: hidden;padding: 0;position: absolute;width: 1px;}#sk-container-id-1 div.sk-estimator {font-family: monospace;background-color: #f0f8ff;border: 1px dotted black;border-radius: 0.25em;box-sizing: border-box;margin-bottom: 0.5em;}#sk-container-id-1 div.sk-estimator:hover {background-color: #d4ebff;}#sk-container-id-1 div.sk-parallel-item::after {content: \"\";width: 100%;border-bottom: 1px solid gray;flex-grow: 1;}#sk-container-id-1 div.sk-label:hover label.sk-toggleable__label {background-color: #d4ebff;}#sk-container-id-1 div.sk-serial::before {content: \"\";position: absolute;border-left: 1px solid gray;box-sizing: border-box;top: 0;bottom: 0;left: 50%;z-index: 0;}#sk-container-id-1 div.sk-serial {display: flex;flex-direction: column;align-items: center;background-color: white;padding-right: 0.2em;padding-left: 0.2em;position: relative;}#sk-container-id-1 div.sk-item {position: relative;z-index: 1;}#sk-container-id-1 div.sk-parallel {display: flex;align-items: stretch;justify-content: center;background-color: white;position: relative;}#sk-container-id-1 div.sk-item::before, #sk-container-id-1 div.sk-parallel-item::before {content: \"\";position: absolute;border-left: 1px solid gray;box-sizing: border-box;top: 0;bottom: 0;left: 50%;z-index: -1;}#sk-container-id-1 div.sk-parallel-item {display: flex;flex-direction: column;z-index: 1;position: relative;background-color: white;}#sk-container-id-1 div.sk-parallel-item:first-child::after {align-self: flex-end;width: 50%;}#sk-container-id-1 div.sk-parallel-item:last-child::after {align-self: flex-start;width: 50%;}#sk-container-id-1 div.sk-parallel-item:only-child::after {width: 0;}#sk-container-id-1 div.sk-dashed-wrapped {border: 1px dashed gray;margin: 0 0.4em 0.5em 0.4em;box-sizing: border-box;padding-bottom: 0.4em;background-color: white;}#sk-container-id-1 div.sk-label label {font-family: monospace;font-weight: bold;display: inline-block;line-height: 1.2em;}#sk-container-id-1 div.sk-label-container {text-align: center;}#sk-container-id-1 div.sk-container {/* jupyter's `normalize.less` sets `[hidden] { display: none; }` but bootstrap.min.css set `[hidden] { display: none !important; }` so we also need the `!important` here to be able to override the default hidden behavior on the sphinx rendered scikit-learn.org. See: https://github.com/scikit-learn/scikit-learn/issues/21755 */display: inline-block !important;position: relative;}#sk-container-id-1 div.sk-text-repr-fallback {display: none;}</style><div id=\"sk-container-id-1\" class=\"sk-top-container\"><div class=\"sk-text-repr-fallback\"><pre>KNeighborsClassifier(n_neighbors=3)</pre><b>In a Jupyter environment, please rerun this cell to show the HTML representation or trust the notebook. <br />On GitHub, the HTML representation is unable to render, please try loading this page with nbviewer.org.</b></div><div class=\"sk-container\" hidden><div class=\"sk-item\"><div class=\"sk-estimator sk-toggleable\"><input class=\"sk-toggleable__control sk-hidden--visually\" id=\"sk-estimator-id-1\" type=\"checkbox\" checked><label for=\"sk-estimator-id-1\" class=\"sk-toggleable__label sk-toggleable__label-arrow\">KNeighborsClassifier</label><div class=\"sk-toggleable__content\"><pre>KNeighborsClassifier(n_neighbors=3)</pre></div></div></div></div></div>"
      ],
      "text/plain": [
       "KNeighborsClassifier(n_neighbors=3)"
      ]
     },
     "execution_count": 43,
     "metadata": {},
     "output_type": "execute_result"
    }
   ],
   "source": [
    "#initialize knn\n",
    "knn_classifier = KNeighborsClassifier(n_neighbors=3)\n",
    "knn_classifier.fit(X_train, y_train)"
   ]
  },
  {
   "cell_type": "code",
   "execution_count": 44,
   "id": "2395e1fe",
   "metadata": {},
   "outputs": [],
   "source": [
    "# make predictions\n",
    "predictions_train = knn_classifier.predict(X_train)"
   ]
  },
  {
   "cell_type": "code",
   "execution_count": 45,
   "id": "a38a41e9",
   "metadata": {},
   "outputs": [
    {
     "name": "stdout",
     "output_type": "stream",
     "text": [
      "Accuracy of prediction on training data:  73.55828220858895\n"
     ]
    }
   ],
   "source": [
    "# Accuracy of predictions on training data\n",
    "acc = compute_accuracy(predictions_train, y_train)\n",
    "print(\"Accuracy of prediction on training data: \", acc)"
   ]
  },
  {
   "cell_type": "code",
   "execution_count": 46,
   "id": "5547392c",
   "metadata": {},
   "outputs": [
    {
     "name": "stdout",
     "output_type": "stream",
     "text": [
      "Accuracy of prediction on training data:  53.8645038167939\n"
     ]
    }
   ],
   "source": [
    "# make predictions on test and \n",
    "predictions_test = knn_classifier.predict(X_test)\n",
    "\n",
    "# Accuracy of predictions on training data\n",
    "acc = compute_accuracy(predictions_test, y_test)\n",
    "print(\"Accuracy of prediction on training data: \",acc)"
   ]
  },
  {
   "cell_type": "markdown",
   "id": "4e6e955d-55af-4848-a59b-cd74d47aa66f",
   "metadata": {
    "jp-MarkdownHeadingCollapsed": true
   },
   "source": [
    "#### K-Nearest Neighbors Hyperparameter Tuning"
   ]
  },
  {
   "cell_type": "code",
   "execution_count": 47,
   "id": "6bdbd923",
   "metadata": {},
   "outputs": [],
   "source": [
    "# Cross Validation Score\n",
    "from sklearn.model_selection import cross_val_score\n",
    "\n",
    "k_choices = [1, 3, 5, 8, 10, 12, 15, 20, 50, 100]\n",
    "\n",
    "scores = np.zeros((len(k_choices), 5))"
   ]
  },
  {
   "cell_type": "code",
   "execution_count": 48,
   "id": "7d9e8c55",
   "metadata": {},
   "outputs": [
    {
     "name": "stdout",
     "output_type": "stream",
     "text": [
      "k is : 1\n",
      "k is : 3\n",
      "k is : 5\n",
      "k is : 8\n",
      "k is : 10\n",
      "k is : 12\n",
      "k is : 15\n",
      "k is : 20\n",
      "k is : 50\n",
      "k is : 100\n"
     ]
    }
   ],
   "source": [
    "# Creating models\n",
    "for i in range(len(k_choices)):\n",
    "    print(\"k is : \" + str(k_choices[i]))\n",
    "\n",
    "    model = KNeighborsClassifier(n_neighbors=k_choices[i])\n",
    "\n",
    "    scores[i] = cross_val_score(model, X, y, cv=5)"
   ]
  },
  {
   "cell_type": "code",
   "execution_count": 49,
   "id": "6ff53f4a",
   "metadata": {},
   "outputs": [
    {
     "data": {
      "image/png": "[encoded data removed]",
      "text/plain": [
       "<Figure size 432x288 with 1 Axes>"
      ]
     },
     "metadata": {
      "needs_background": "light"
     },
     "output_type": "display_data"
    }
   ],
   "source": [
    "# Visualize the results\n",
    "def plot_scatter(scores):\n",
    "    for i in range(len(scores)):\n",
    "        x=[k_choices[i]] * 5\n",
    "        plt.scatter(x, scores[i])\n",
    "        \n",
    "plot_scatter(scores)"
   ]
  },
  {
   "cell_type": "code",
   "execution_count": 50,
   "id": "9572e9ec",
   "metadata": {},
   "outputs": [
    {
     "data": {
      "text/plain": [
       "Text(0, 0.5, 'Cross-validation accuracy')"
      ]
     },
     "execution_count": 50,
     "metadata": {},
     "output_type": "execute_result"
    },
    {
     "data": {
      "image/png": "[encoded data removed]",
      "text/plain": [
       "<Figure size 432x288 with 1 Axes>"
      ]
     },
     "metadata": {
      "needs_background": "light"
     },
     "output_type": "display_data"
    }
   ],
   "source": [
    "# Get the mean and std and plot\n",
    "avg_scores = np.mean(scores, axis=1)\n",
    "stddev_scores = np.std(scores, axis=1)\n",
    "\n",
    "plot_scatter(scores)\n",
    "\n",
    "plt.errorbar(k_choices, avg_scores, yerr=stddev_scores)\n",
    "plt.title('Cross-validation on k')\n",
    "plt.xlabel('k')\n",
    "plt.ylabel('Cross-validation accuracy')#### K-Nearest Neighbors Hyperparameter Tuning"
   ]
  },
  {
   "cell_type": "markdown",
   "id": "7a72574b",
   "metadata": {
    "jp-MarkdownHeadingCollapsed": true
   },
   "source": [
    "Now get the best hyperparameter"
   ]
  },
  {
   "cell_type": "code",
   "execution_count": 67,
   "id": "fbf8c968",
   "metadata": {},
   "outputs": [],
   "source": [
    "best_k = 100"
   ]
  },
  {
   "cell_type": "code",
   "execution_count": 68,
   "id": "82ec9187",
   "metadata": {},
   "outputs": [
    {
     "name": "stdout",
     "output_type": "stream",
     "text": [
      "Got 1001 / 1747 correct => accuracy: 57.298226\n"
     ]
    }
   ],
   "source": [
    "model = KNeighborsClassifier(n_neighbors = best_k)\n",
    "model.fit(X_train, y_train)\n",
    "y_predicted = model.predict(X_test)\n",
    "\n",
    "\n",
    "accuracy = compute_accuracy(y_predicted, y_test)\n",
    "num_correct= np.sum(y_test == y_predicted)\n",
    "num_test = y_test.size\n",
    "\n",
    "print(\"Got %d / %d correct => accuracy: %f\" % (num_correct, num_test, accuracy))"
   ]
  },
  {
   "cell_type": "code",
   "execution_count": 53,
   "id": "5e745415",
   "metadata": {},
   "outputs": [
    {
     "name": "stdout",
     "output_type": "stream",
     "text": [
      "Best n_neighbors: 59\n"
     ]
    }
   ],
   "source": [
    ">>> from sklearn.model_selection import GridSearchCV\n",
    "\n",
    "#List Hyperparameters that we want to tune.\n",
    "\n",
    "#Convert to dictionary\n",
    "hyperparameters = {'n_neighbors': np.arange(1, 200, 1)}\n",
    "\n",
    "#Create new KNN object\n",
    "knn = KNeighborsClassifier()\n",
    "\n",
    "#Use GridSearch\n",
    "clf = GridSearchCV(estimator=knn, param_grid=hyperparameters, cv=10, scoring='accuracy',error_score=0)\n",
    "\n",
    "#Fit the model\n",
    "best_model = clf.fit(X_train, y_train)\n",
    "\n",
    "#Print The value of best Hyperparameters\n",
    "best_k = best_model.best_estimator_.get_params()['n_neighbors']\n",
    "\n",
    "print('Best n_neighbors:', best_k)"
   ]
  },
  {
   "cell_type": "code",
   "execution_count": 54,
   "id": "0984496a",
   "metadata": {},
   "outputs": [
    {
     "name": "stdout",
     "output_type": "stream",
     "text": [
      "Got 1221 / 2096 correct => accuracy: 58.253817\n"
     ]
    }
   ],
   "source": [
    "knn = KNeighborsClassifier(n_neighbors = best_k)\n",
    "\n",
    "knn.fit(X_train, y_train)\n",
    "y_predicted = knn.predict(X_test)\n",
    "\n",
    "\n",
    "accuracy = compute_accuracy(y_predicted, y_test)\n",
    "num_correct= np.sum(y_test == y_predicted)\n",
    "num_test = y_test.size\n",
    "\n",
    "print(\"Got %d / %d correct => accuracy: %f\" % (num_correct, num_test, accuracy))"
   ]
  },
  {
   "cell_type": "markdown",
   "id": "c3917424-f55e-4b87-9328-25de576467c5",
   "metadata": {
    "jp-MarkdownHeadingCollapsed": true
   },
   "source": [
    "### Logistic Regression"
   ]
  },
  {
   "cell_type": "markdown",
   "id": "c7d6d841-5411-4e12-bc60-5df72b180201",
   "metadata": {},
   "source": [
    "TODO: justify why logistic regression"
   ]
  },
  {
   "cell_type": "markdown",
   "id": "af237980-bd79-4d62-bcdf-eb3c5bfb5614",
   "metadata": {},
   "source": [
    "#### Logistic Regression Model Training"
   ]
  },
  {
   "cell_type": "markdown",
   "id": "0e698120-8e60-45a6-a164-c10a97224ac5",
   "metadata": {},
   "source": [
    "#### Logistic Regression Hyperparameter Tuning"
   ]
  },
  {
   "cell_type": "markdown",
   "id": "8e37f5f8-bba3-44f0-995d-02011f53030c",
   "metadata": {},
   "source": [
    "### Random Forest"
   ]
  },
  {
   "cell_type": "markdown",
   "id": "a8c4de93-5005-40ae-b250-c1bfab081221",
   "metadata": {},
   "source": [
    "For the third model, random forest was chosen for its benefits including being less prone to overfitting, and being able to extract the importances of each feature used in training *(What is Random Forest?, n.d.)*. Given that random forest extends decision trees' predictive power by taking the average of multiple trees, it better captures the general trend of the provided training data. Additionally, by knowing which features have higher importance in influencing the model's predictions, feature selection could happen where less important features can be removed, resulting in a less complex model."
   ]
  },
  {
   "cell_type": "markdown",
   "id": "dba26ae4-3a80-4ee1-a24d-de2b2990beb0",
   "metadata": {},
   "source": [
    "#### Random Forest Training"
   ]
  },
  {
   "cell_type": "markdown",
   "id": "d42775a1-c3c4-4bcb-9985-90428eb3578f",
   "metadata": {},
   "source": [
    "To begin training, the feature matrix and target vector are split into train and test sets."
   ]
  },
  {
   "cell_type": "code",
   "execution_count": 40,
   "id": "a38d59ba-2254-4df1-8f7a-cb39a33f3887",
   "metadata": {},
   "outputs": [],
   "source": [
    "X_train, X_test, y_train, y_test = train_test_split(X, y, random_state=random_state, stratify=y)"
   ]
  },
  {
   "cell_type": "markdown",
   "id": "76de81ff-5d29-488b-88ac-f5272a57ade6",
   "metadata": {},
   "source": [
    "A `RandomForestClassifer` object is created and trained with default hyperparameters (as documented [here](https://scikit-learn.org/stable/modules/generated/sklearn.ensemble.RandomForestClassifier.html)). The following are the hyperparameters (and initial values) we will be working with and tuning later on.\n",
    "\n",
    "- n_estimators = 100\n",
    "- criterion = \"gini\"\n",
    "- min_samples_leaf = 2\n",
    "- max_features = \"sqrt\"\n",
    "- max_samples = None\n",
    "\n",
    "These hyperparameters were selected given that they were described to have most influence on performance and extraction of feature importance *(Probst et al., 2019)*."
   ]
  },
  {
   "cell_type": "code",
   "execution_count": 41,
   "id": "2c87325d-bd3c-4a46-a9de-72b73618338b",
   "metadata": {},
   "outputs": [
    {
     "data": {
      "text/html": [
       "<style>#sk-container-id-1 {color: black;}#sk-container-id-1 pre{padding: 0;}#sk-container-id-1 div.sk-toggleable {background-color: white;}#sk-container-id-1 label.sk-toggleable__label {cursor: pointer;display: block;width: 100%;margin-bottom: 0;padding: 0.3em;box-sizing: border-box;text-align: center;}#sk-container-id-1 label.sk-toggleable__label-arrow:before {content: \"▸\";float: left;margin-right: 0.25em;color: #696969;}#sk-container-id-1 label.sk-toggleable__label-arrow:hover:before {color: black;}#sk-container-id-1 div.sk-estimator:hover label.sk-toggleable__label-arrow:before {color: black;}#sk-container-id-1 div.sk-toggleable__content {max-height: 0;max-width: 0;overflow: hidden;text-align: left;background-color: #f0f8ff;}#sk-container-id-1 div.sk-toggleable__content pre {margin: 0.2em;color: black;border-radius: 0.25em;background-color: #f0f8ff;}#sk-container-id-1 input.sk-toggleable__control:checked~div.sk-toggleable__content {max-height: 200px;max-width: 100%;overflow: auto;}#sk-container-id-1 input.sk-toggleable__control:checked~label.sk-toggleable__label-arrow:before {content: \"▾\";}#sk-container-id-1 div.sk-estimator input.sk-toggleable__control:checked~label.sk-toggleable__label {background-color: #d4ebff;}#sk-container-id-1 div.sk-label input.sk-toggleable__control:checked~label.sk-toggleable__label {background-color: #d4ebff;}#sk-container-id-1 input.sk-hidden--visually {border: 0;clip: rect(1px 1px 1px 1px);clip: rect(1px, 1px, 1px, 1px);height: 1px;margin: -1px;overflow: hidden;padding: 0;position: absolute;width: 1px;}#sk-container-id-1 div.sk-estimator {font-family: monospace;background-color: #f0f8ff;border: 1px dotted black;border-radius: 0.25em;box-sizing: border-box;margin-bottom: 0.5em;}#sk-container-id-1 div.sk-estimator:hover {background-color: #d4ebff;}#sk-container-id-1 div.sk-parallel-item::after {content: \"\";width: 100%;border-bottom: 1px solid gray;flex-grow: 1;}#sk-container-id-1 div.sk-label:hover label.sk-toggleable__label {background-color: #d4ebff;}#sk-container-id-1 div.sk-serial::before {content: \"\";position: absolute;border-left: 1px solid gray;box-sizing: border-box;top: 0;bottom: 0;left: 50%;z-index: 0;}#sk-container-id-1 div.sk-serial {display: flex;flex-direction: column;align-items: center;background-color: white;padding-right: 0.2em;padding-left: 0.2em;position: relative;}#sk-container-id-1 div.sk-item {position: relative;z-index: 1;}#sk-container-id-1 div.sk-parallel {display: flex;align-items: stretch;justify-content: center;background-color: white;position: relative;}#sk-container-id-1 div.sk-item::before, #sk-container-id-1 div.sk-parallel-item::before {content: \"\";position: absolute;border-left: 1px solid gray;box-sizing: border-box;top: 0;bottom: 0;left: 50%;z-index: -1;}#sk-container-id-1 div.sk-parallel-item {display: flex;flex-direction: column;z-index: 1;position: relative;background-color: white;}#sk-container-id-1 div.sk-parallel-item:first-child::after {align-self: flex-end;width: 50%;}#sk-container-id-1 div.sk-parallel-item:last-child::after {align-self: flex-start;width: 50%;}#sk-container-id-1 div.sk-parallel-item:only-child::after {width: 0;}#sk-container-id-1 div.sk-dashed-wrapped {border: 1px dashed gray;margin: 0 0.4em 0.5em 0.4em;box-sizing: border-box;padding-bottom: 0.4em;background-color: white;}#sk-container-id-1 div.sk-label label {font-family: monospace;font-weight: bold;display: inline-block;line-height: 1.2em;}#sk-container-id-1 div.sk-label-container {text-align: center;}#sk-container-id-1 div.sk-container {/* jupyter's `normalize.less` sets `[hidden] { display: none; }` but bootstrap.min.css set `[hidden] { display: none !important; }` so we also need the `!important` here to be able to override the default hidden behavior on the sphinx rendered scikit-learn.org. See: https://github.com/scikit-learn/scikit-learn/issues/21755 */display: inline-block !important;position: relative;}#sk-container-id-1 div.sk-text-repr-fallback {display: none;}</style><div id=\"sk-container-id-1\" class=\"sk-top-container\"><div class=\"sk-text-repr-fallback\"><pre>RandomForestClassifier(n_jobs=-1, random_state=42)</pre><b>In a Jupyter environment, please rerun this cell to show the HTML representation or trust the notebook. <br />On GitHub, the HTML representation is unable to render, please try loading this page with nbviewer.org.</b></div><div class=\"sk-container\" hidden><div class=\"sk-item\"><div class=\"sk-estimator sk-toggleable\"><input class=\"sk-toggleable__control sk-hidden--visually\" id=\"sk-estimator-id-1\" type=\"checkbox\" checked><label for=\"sk-estimator-id-1\" class=\"sk-toggleable__label sk-toggleable__label-arrow\">RandomForestClassifier</label><div class=\"sk-toggleable__content\"><pre>RandomForestClassifier(n_jobs=-1, random_state=42)</pre></div></div></div></div></div>"
      ],
      "text/plain": [
       "RandomForestClassifier(n_jobs=-1, random_state=42)"
      ]
     },
     "execution_count": 41,
     "metadata": {},
     "output_type": "execute_result"
    }
   ],
   "source": [
    "rfc = RandomForestClassifier(random_state=random_state, n_jobs=-1)\n",
    "rfc.fit(X_train, y_train)"
   ]
  },
  {
   "cell_type": "markdown",
   "id": "9d7f88ad-bc8b-4e10-afaa-ec16e2a54596",
   "metadata": {},
   "source": [
    "Predictions can now be made on both the training set and test set."
   ]
  },
  {
   "cell_type": "code",
   "execution_count": 42,
   "id": "af0bce6f-8b59-4256-9d56-5268e0b5620d",
   "metadata": {},
   "outputs": [
    {
     "name": "stdout",
     "output_type": "stream",
     "text": [
      "Random forest classifier train accuracy: 97.2514 %\n"
     ]
    }
   ],
   "source": [
    "predictions_train = rfc.predict(X_train)\n",
    "acc_train_rf = compute_accuracy(predictions_train, y_train)\n",
    "print(\"Random forest classifier train accuracy:\", acc_train_rf, \"%\")"
   ]
  },
  {
   "cell_type": "code",
   "execution_count": 43,
   "id": "7117ee47-94e1-4440-aae7-496f959a613d",
   "metadata": {},
   "outputs": [
    {
     "name": "stdout",
     "output_type": "stream",
     "text": [
      "Random forest classifier test accuracy: 60.7327 %\n"
     ]
    }
   ],
   "source": [
    "predictions_test = rfc.predict(X_test)\n",
    "acc_test_rf = compute_accuracy(predictions_test, y_test)\n",
    "print(\"Random forest classifier test accuracy:\", acc_test_rf, \"%\")"
   ]
  },
  {
   "cell_type": "markdown",
   "id": "08f77bbb-e6a1-4b02-adee-739ae09055af",
   "metadata": {},
   "source": [
    "The above accuracies show that the model performs very well on the training set but performs poorly on the test set. This shows that the model has **high variance** and is **overfitting**."
   ]
  },
  {
   "cell_type": "markdown",
   "id": "bcce3523-c301-45aa-8bbb-7da20fbe6eaf",
   "metadata": {},
   "source": [
    "#### Random Forest Hyperparameter Tuning"
   ]
  },
  {
   "cell_type": "markdown",
   "id": "e28712aa-990d-4507-9955-21b39a6f3a0b",
   "metadata": {},
   "source": [
    "We define the search space for hyperparameter tuning:"
   ]
  },
  {
   "cell_type": "code",
   "execution_count": 44,
   "id": "ca6fcfb5-6c2d-43eb-a181-8c2d2b5c50ed",
   "metadata": {},
   "outputs": [],
   "source": [
    "hyperparameters_rf = {\n",
    "    'n_estimators': [50, 100, 120, 140, 200],\n",
    "    'criterion': ['gini', 'entropy', 'log_loss'],\n",
    "    'min_samples_leaf': [1, 2, 4, 6, 8, 10],\n",
    "    'max_features': ['sqrt', 'log2', None],\n",
    "    'max_samples': [0.1, 0.3, 0.5, 0.7, 0.9]\n",
    "}"
   ]
  },
  {
   "cell_type": "markdown",
   "id": "36d81895-fa5d-40b1-beee-d6b0253e7ec4",
   "metadata": {},
   "source": [
    "To tune the hyperparameters of the Random Forest model, the `RandomizedSearchCV` class will be used. We set the the number of combinations to try (n_iter) to `10` and the number of cross valdiation folds to `5`."
   ]
  },
  {
   "cell_type": "code",
   "execution_count": 45,
   "id": "da3f69fe-8aa8-4679-96ac-8e375e60a78e",
   "metadata": {},
   "outputs": [],
   "source": [
    "rsr = RandomizedSearchCV(estimator=rfc, param_distributions=hyperparameters_rf, n_iter=30, cv=7, random_state=42)"
   ]
  },
  {
   "cell_type": "markdown",
   "id": "ae01dfea-0c8c-49a1-88de-9c1f3e7c3206",
   "metadata": {},
   "source": [
    "The models are then trained on the training data to produce the best hyperparameters."
   ]
  },
  {
   "cell_type": "code",
   "execution_count": 46,
   "id": "77ac2f06-ec37-4985-a85c-147278cc2e8b",
   "metadata": {
    "scrolled": true
   },
   "outputs": [
    {
     "data": {
      "text/html": [
       "<style>#sk-container-id-2 {color: black;}#sk-container-id-2 pre{padding: 0;}#sk-container-id-2 div.sk-toggleable {background-color: white;}#sk-container-id-2 label.sk-toggleable__label {cursor: pointer;display: block;width: 100%;margin-bottom: 0;padding: 0.3em;box-sizing: border-box;text-align: center;}#sk-container-id-2 label.sk-toggleable__label-arrow:before {content: \"▸\";float: left;margin-right: 0.25em;color: #696969;}#sk-container-id-2 label.sk-toggleable__label-arrow:hover:before {color: black;}#sk-container-id-2 div.sk-estimator:hover label.sk-toggleable__label-arrow:before {color: black;}#sk-container-id-2 div.sk-toggleable__content {max-height: 0;max-width: 0;overflow: hidden;text-align: left;background-color: #f0f8ff;}#sk-container-id-2 div.sk-toggleable__content pre {margin: 0.2em;color: black;border-radius: 0.25em;background-color: #f0f8ff;}#sk-container-id-2 input.sk-toggleable__control:checked~div.sk-toggleable__content {max-height: 200px;max-width: 100%;overflow: auto;}#sk-container-id-2 input.sk-toggleable__control:checked~label.sk-toggleable__label-arrow:before {content: \"▾\";}#sk-container-id-2 div.sk-estimator input.sk-toggleable__control:checked~label.sk-toggleable__label {background-color: #d4ebff;}#sk-container-id-2 div.sk-label input.sk-toggleable__control:checked~label.sk-toggleable__label {background-color: #d4ebff;}#sk-container-id-2 input.sk-hidden--visually {border: 0;clip: rect(1px 1px 1px 1px);clip: rect(1px, 1px, 1px, 1px);height: 1px;margin: -1px;overflow: hidden;padding: 0;position: absolute;width: 1px;}#sk-container-id-2 div.sk-estimator {font-family: monospace;background-color: #f0f8ff;border: 1px dotted black;border-radius: 0.25em;box-sizing: border-box;margin-bottom: 0.5em;}#sk-container-id-2 div.sk-estimator:hover {background-color: #d4ebff;}#sk-container-id-2 div.sk-parallel-item::after {content: \"\";width: 100%;border-bottom: 1px solid gray;flex-grow: 1;}#sk-container-id-2 div.sk-label:hover label.sk-toggleable__label {background-color: #d4ebff;}#sk-container-id-2 div.sk-serial::before {content: \"\";position: absolute;border-left: 1px solid gray;box-sizing: border-box;top: 0;bottom: 0;left: 50%;z-index: 0;}#sk-container-id-2 div.sk-serial {display: flex;flex-direction: column;align-items: center;background-color: white;padding-right: 0.2em;padding-left: 0.2em;position: relative;}#sk-container-id-2 div.sk-item {position: relative;z-index: 1;}#sk-container-id-2 div.sk-parallel {display: flex;align-items: stretch;justify-content: center;background-color: white;position: relative;}#sk-container-id-2 div.sk-item::before, #sk-container-id-2 div.sk-parallel-item::before {content: \"\";position: absolute;border-left: 1px solid gray;box-sizing: border-box;top: 0;bottom: 0;left: 50%;z-index: -1;}#sk-container-id-2 div.sk-parallel-item {display: flex;flex-direction: column;z-index: 1;position: relative;background-color: white;}#sk-container-id-2 div.sk-parallel-item:first-child::after {align-self: flex-end;width: 50%;}#sk-container-id-2 div.sk-parallel-item:last-child::after {align-self: flex-start;width: 50%;}#sk-container-id-2 div.sk-parallel-item:only-child::after {width: 0;}#sk-container-id-2 div.sk-dashed-wrapped {border: 1px dashed gray;margin: 0 0.4em 0.5em 0.4em;box-sizing: border-box;padding-bottom: 0.4em;background-color: white;}#sk-container-id-2 div.sk-label label {font-family: monospace;font-weight: bold;display: inline-block;line-height: 1.2em;}#sk-container-id-2 div.sk-label-container {text-align: center;}#sk-container-id-2 div.sk-container {/* jupyter's `normalize.less` sets `[hidden] { display: none; }` but bootstrap.min.css set `[hidden] { display: none !important; }` so we also need the `!important` here to be able to override the default hidden behavior on the sphinx rendered scikit-learn.org. See: https://github.com/scikit-learn/scikit-learn/issues/21755 */display: inline-block !important;position: relative;}#sk-container-id-2 div.sk-text-repr-fallback {display: none;}</style><div id=\"sk-container-id-2\" class=\"sk-top-container\"><div class=\"sk-text-repr-fallback\"><pre>RandomizedSearchCV(cv=7,\n",
       "                   estimator=RandomForestClassifier(n_jobs=-1, random_state=42),\n",
       "                   n_iter=30,\n",
       "                   param_distributions={&#x27;criterion&#x27;: [&#x27;gini&#x27;, &#x27;entropy&#x27;,\n",
       "                                                      &#x27;log_loss&#x27;],\n",
       "                                        &#x27;max_features&#x27;: [&#x27;sqrt&#x27;, &#x27;log2&#x27;, None],\n",
       "                                        &#x27;max_samples&#x27;: [0.1, 0.3, 0.5, 0.7,\n",
       "                                                        0.9],\n",
       "                                        &#x27;min_samples_leaf&#x27;: [1, 2, 4, 6, 8, 10],\n",
       "                                        &#x27;n_estimators&#x27;: [50, 100, 120, 140,\n",
       "                                                         200]},\n",
       "                   random_state=42)</pre><b>In a Jupyter environment, please rerun this cell to show the HTML representation or trust the notebook. <br />On GitHub, the HTML representation is unable to render, please try loading this page with nbviewer.org.</b></div><div class=\"sk-container\" hidden><div class=\"sk-item sk-dashed-wrapped\"><div class=\"sk-label-container\"><div class=\"sk-label sk-toggleable\"><input class=\"sk-toggleable__control sk-hidden--visually\" id=\"sk-estimator-id-2\" type=\"checkbox\" ><label for=\"sk-estimator-id-2\" class=\"sk-toggleable__label sk-toggleable__label-arrow\">RandomizedSearchCV</label><div class=\"sk-toggleable__content\"><pre>RandomizedSearchCV(cv=7,\n",
       "                   estimator=RandomForestClassifier(n_jobs=-1, random_state=42),\n",
       "                   n_iter=30,\n",
       "                   param_distributions={&#x27;criterion&#x27;: [&#x27;gini&#x27;, &#x27;entropy&#x27;,\n",
       "                                                      &#x27;log_loss&#x27;],\n",
       "                                        &#x27;max_features&#x27;: [&#x27;sqrt&#x27;, &#x27;log2&#x27;, None],\n",
       "                                        &#x27;max_samples&#x27;: [0.1, 0.3, 0.5, 0.7,\n",
       "                                                        0.9],\n",
       "                                        &#x27;min_samples_leaf&#x27;: [1, 2, 4, 6, 8, 10],\n",
       "                                        &#x27;n_estimators&#x27;: [50, 100, 120, 140,\n",
       "                                                         200]},\n",
       "                   random_state=42)</pre></div></div></div><div class=\"sk-parallel\"><div class=\"sk-parallel-item\"><div class=\"sk-item\"><div class=\"sk-label-container\"><div class=\"sk-label sk-toggleable\"><input class=\"sk-toggleable__control sk-hidden--visually\" id=\"sk-estimator-id-3\" type=\"checkbox\" ><label for=\"sk-estimator-id-3\" class=\"sk-toggleable__label sk-toggleable__label-arrow\">estimator: RandomForestClassifier</label><div class=\"sk-toggleable__content\"><pre>RandomForestClassifier(n_jobs=-1, random_state=42)</pre></div></div></div><div class=\"sk-serial\"><div class=\"sk-item\"><div class=\"sk-estimator sk-toggleable\"><input class=\"sk-toggleable__control sk-hidden--visually\" id=\"sk-estimator-id-4\" type=\"checkbox\" ><label for=\"sk-estimator-id-4\" class=\"sk-toggleable__label sk-toggleable__label-arrow\">RandomForestClassifier</label><div class=\"sk-toggleable__content\"><pre>RandomForestClassifier(n_jobs=-1, random_state=42)</pre></div></div></div></div></div></div></div></div></div></div>"
      ],
      "text/plain": [
       "RandomizedSearchCV(cv=7,\n",
       "                   estimator=RandomForestClassifier(n_jobs=-1, random_state=42),\n",
       "                   n_iter=30,\n",
       "                   param_distributions={'criterion': ['gini', 'entropy',\n",
       "                                                      'log_loss'],\n",
       "                                        'max_features': ['sqrt', 'log2', None],\n",
       "                                        'max_samples': [0.1, 0.3, 0.5, 0.7,\n",
       "                                                        0.9],\n",
       "                                        'min_samples_leaf': [1, 2, 4, 6, 8, 10],\n",
       "                                        'n_estimators': [50, 100, 120, 140,\n",
       "                                                         200]},\n",
       "                   random_state=42)"
      ]
     },
     "execution_count": 46,
     "metadata": {},
     "output_type": "execute_result"
    }
   ],
   "source": [
    "rsr.fit(X_train, y_train)"
   ]
  },
  {
   "cell_type": "code",
   "execution_count": 47,
   "id": "bdcb47aa-6876-4ebd-b9a7-6636ac263f17",
   "metadata": {},
   "outputs": [
    {
     "data": {
      "text/plain": [
       "{'n_estimators': 200,\n",
       " 'min_samples_leaf': 6,\n",
       " 'max_samples': 0.9,\n",
       " 'max_features': 'log2',\n",
       " 'criterion': 'gini'}"
      ]
     },
     "execution_count": 47,
     "metadata": {},
     "output_type": "execute_result"
    }
   ],
   "source": [
    "hyperparameters_rf_best = rsr.best_params_\n",
    "hyperparameters_rf_best"
   ]
  },
  {
   "cell_type": "markdown",
   "id": "4cb7facb-9f18-454e-814a-e88001f3ccd8",
   "metadata": {},
   "source": [
    "Based on these hyperparameters, we can access the best estimator using these identified hyperparameters as well as its feature importances."
   ]
  },
  {
   "cell_type": "code",
   "execution_count": 48,
   "id": "e1d12e42-73c1-4897-86a2-8b93e1b7173a",
   "metadata": {},
   "outputs": [
    {
     "data": {
      "text/html": [
       "<div>\n",
       "<style scoped>\n",
       "    .dataframe tbody tr th:only-of-type {\n",
       "        vertical-align: middle;\n",
       "    }\n",
       "\n",
       "    .dataframe tbody tr th {\n",
       "        vertical-align: top;\n",
       "    }\n",
       "\n",
       "    .dataframe thead th {\n",
       "        text-align: right;\n",
       "    }\n",
       "</style>\n",
       "<table border=\"1\" class=\"dataframe\">\n",
       "  <thead>\n",
       "    <tr style=\"text-align: right;\">\n",
       "      <th></th>\n",
       "      <th>importance</th>\n",
       "    </tr>\n",
       "  </thead>\n",
       "  <tbody>\n",
       "    <tr>\n",
       "      <th>home_on_target</th>\n",
       "      <td>0.197621</td>\n",
       "    </tr>\n",
       "    <tr>\n",
       "      <th>away_on_target</th>\n",
       "      <td>0.150971</td>\n",
       "    </tr>\n",
       "    <tr>\n",
       "      <th>current_minute</th>\n",
       "      <td>0.134095</td>\n",
       "    </tr>\n",
       "    <tr>\n",
       "      <th>away_attacks</th>\n",
       "      <td>0.071861</td>\n",
       "    </tr>\n",
       "    <tr>\n",
       "      <th>home_attacks</th>\n",
       "      <td>0.070361</td>\n",
       "    </tr>\n",
       "    <tr>\n",
       "      <th>away_dangerous_attacks</th>\n",
       "      <td>0.067225</td>\n",
       "    </tr>\n",
       "    <tr>\n",
       "      <th>home_dangerous_attacks</th>\n",
       "      <td>0.063229</td>\n",
       "    </tr>\n",
       "    <tr>\n",
       "      <th>away_possession</th>\n",
       "      <td>0.045555</td>\n",
       "    </tr>\n",
       "    <tr>\n",
       "      <th>home_possession</th>\n",
       "      <td>0.043954</td>\n",
       "    </tr>\n",
       "    <tr>\n",
       "      <th>home_off_target</th>\n",
       "      <td>0.036374</td>\n",
       "    </tr>\n",
       "    <tr>\n",
       "      <th>away_off_target</th>\n",
       "      <td>0.033071</td>\n",
       "    </tr>\n",
       "    <tr>\n",
       "      <th>home_corners</th>\n",
       "      <td>0.032293</td>\n",
       "    </tr>\n",
       "    <tr>\n",
       "      <th>away_corners</th>\n",
       "      <td>0.025329</td>\n",
       "    </tr>\n",
       "    <tr>\n",
       "      <th>away_yellow_cards</th>\n",
       "      <td>0.014962</td>\n",
       "    </tr>\n",
       "    <tr>\n",
       "      <th>home_yellow_cards</th>\n",
       "      <td>0.012451</td>\n",
       "    </tr>\n",
       "    <tr>\n",
       "      <th>away_red_cards</th>\n",
       "      <td>0.000600</td>\n",
       "    </tr>\n",
       "    <tr>\n",
       "      <th>home_red_cards</th>\n",
       "      <td>0.000048</td>\n",
       "    </tr>\n",
       "  </tbody>\n",
       "</table>\n",
       "</div>"
      ],
      "text/plain": [
       "                        importance\n",
       "home_on_target            0.197621\n",
       "away_on_target            0.150971\n",
       "current_minute            0.134095\n",
       "away_attacks              0.071861\n",
       "home_attacks              0.070361\n",
       "away_dangerous_attacks    0.067225\n",
       "home_dangerous_attacks    0.063229\n",
       "away_possession           0.045555\n",
       "home_possession           0.043954\n",
       "home_off_target           0.036374\n",
       "away_off_target           0.033071\n",
       "home_corners              0.032293\n",
       "away_corners              0.025329\n",
       "away_yellow_cards         0.014962\n",
       "home_yellow_cards         0.012451\n",
       "away_red_cards            0.000600\n",
       "home_red_cards            0.000048"
      ]
     },
     "execution_count": 48,
     "metadata": {},
     "output_type": "execute_result"
    }
   ],
   "source": [
    "best_estimator_rf = rsr.best_estimator_\n",
    "\n",
    "feature_importance = best_estimator_rf.feature_importances_\n",
    "df_rfc_importance = pd.DataFrame(data=feature_importance, index=data.drop([\"target\"], axis=1).columns, columns=[\"importance\"])\n",
    "df_rfc_importance.sort_values(by=\"importance\", ascending=False)"
   ]
  },
  {
   "cell_type": "markdown",
   "id": "1e086061-b164-4c72-b6c2-9e39bd1461c6",
   "metadata": {},
   "source": [
    "This shows that the 3 most important features are `home_on_target`, `current_minute`, and `away_on_target` while the 3 least important features are `home_yellow_cards`, `away_red_cards`, `home_red_cards`."
   ]
  },
  {
   "cell_type": "markdown",
   "id": "695b3c11-8444-4a71-a9c4-16ee60e4c8f1",
   "metadata": {},
   "source": [
    "Here are the relevant results and metrics from each iteration of random combinations."
   ]
  },
  {
   "cell_type": "code",
   "execution_count": 49,
   "id": "c03d41a6-a556-46ec-9f35-0722da13f15a",
   "metadata": {
    "scrolled": true
   },
   "outputs": [
    {
     "data": {
      "text/html": [
       "<div>\n",
       "<style scoped>\n",
       "    .dataframe tbody tr th:only-of-type {\n",
       "        vertical-align: middle;\n",
       "    }\n",
       "\n",
       "    .dataframe tbody tr th {\n",
       "        vertical-align: top;\n",
       "    }\n",
       "\n",
       "    .dataframe thead th {\n",
       "        text-align: right;\n",
       "    }\n",
       "</style>\n",
       "<table border=\"1\" class=\"dataframe\">\n",
       "  <thead>\n",
       "    <tr style=\"text-align: right;\">\n",
       "      <th></th>\n",
       "      <th>mean_fit_time</th>\n",
       "      <th>std_fit_time</th>\n",
       "      <th>mean_score_time</th>\n",
       "      <th>std_score_time</th>\n",
       "      <th>param_n_estimators</th>\n",
       "      <th>param_min_samples_leaf</th>\n",
       "      <th>param_max_samples</th>\n",
       "      <th>param_max_features</th>\n",
       "      <th>param_criterion</th>\n",
       "      <th>params</th>\n",
       "      <th>split0_test_score</th>\n",
       "      <th>split1_test_score</th>\n",
       "      <th>split2_test_score</th>\n",
       "      <th>split3_test_score</th>\n",
       "      <th>split4_test_score</th>\n",
       "      <th>split5_test_score</th>\n",
       "      <th>split6_test_score</th>\n",
       "      <th>mean_test_score</th>\n",
       "      <th>std_test_score</th>\n",
       "      <th>rank_test_score</th>\n",
       "    </tr>\n",
       "  </thead>\n",
       "  <tbody>\n",
       "    <tr>\n",
       "      <th>0</th>\n",
       "      <td>0.467844</td>\n",
       "      <td>0.007162</td>\n",
       "      <td>0.048335</td>\n",
       "      <td>0.000392</td>\n",
       "      <td>200</td>\n",
       "      <td>6</td>\n",
       "      <td>0.9</td>\n",
       "      <td>log2</td>\n",
       "      <td>gini</td>\n",
       "      <td>{'n_estimators': 200, 'min_samples_leaf': 6, '...</td>\n",
       "      <td>0.618158</td>\n",
       "      <td>0.578104</td>\n",
       "      <td>0.599466</td>\n",
       "      <td>0.640374</td>\n",
       "      <td>0.600267</td>\n",
       "      <td>0.616310</td>\n",
       "      <td>0.614973</td>\n",
       "      <td>0.609665</td>\n",
       "      <td>0.018032</td>\n",
       "      <td>1</td>\n",
       "    </tr>\n",
       "    <tr>\n",
       "      <th>1</th>\n",
       "      <td>0.262127</td>\n",
       "      <td>0.004261</td>\n",
       "      <td>0.026380</td>\n",
       "      <td>0.000548</td>\n",
       "      <td>100</td>\n",
       "      <td>6</td>\n",
       "      <td>0.9</td>\n",
       "      <td>sqrt</td>\n",
       "      <td>log_loss</td>\n",
       "      <td>{'n_estimators': 100, 'min_samples_leaf': 6, '...</td>\n",
       "      <td>0.618158</td>\n",
       "      <td>0.578104</td>\n",
       "      <td>0.590120</td>\n",
       "      <td>0.636364</td>\n",
       "      <td>0.597594</td>\n",
       "      <td>0.629679</td>\n",
       "      <td>0.612299</td>\n",
       "      <td>0.608903</td>\n",
       "      <td>0.019684</td>\n",
       "      <td>2</td>\n",
       "    </tr>\n",
       "    <tr>\n",
       "      <th>24</th>\n",
       "      <td>0.644391</td>\n",
       "      <td>0.009095</td>\n",
       "      <td>0.048427</td>\n",
       "      <td>0.000498</td>\n",
       "      <td>200</td>\n",
       "      <td>2</td>\n",
       "      <td>0.9</td>\n",
       "      <td>sqrt</td>\n",
       "      <td>log_loss</td>\n",
       "      <td>{'n_estimators': 200, 'min_samples_leaf': 2, '...</td>\n",
       "      <td>0.612817</td>\n",
       "      <td>0.584780</td>\n",
       "      <td>0.602136</td>\n",
       "      <td>0.617647</td>\n",
       "      <td>0.601604</td>\n",
       "      <td>0.621658</td>\n",
       "      <td>0.616310</td>\n",
       "      <td>0.608136</td>\n",
       "      <td>0.011870</td>\n",
       "      <td>3</td>\n",
       "    </tr>\n",
       "    <tr>\n",
       "      <th>5</th>\n",
       "      <td>0.478071</td>\n",
       "      <td>0.012470</td>\n",
       "      <td>0.037036</td>\n",
       "      <td>0.000473</td>\n",
       "      <td>120</td>\n",
       "      <td>1</td>\n",
       "      <td>0.3</td>\n",
       "      <td>None</td>\n",
       "      <td>entropy</td>\n",
       "      <td>{'n_estimators': 120, 'min_samples_leaf': 1, '...</td>\n",
       "      <td>0.623498</td>\n",
       "      <td>0.586115</td>\n",
       "      <td>0.602136</td>\n",
       "      <td>0.631016</td>\n",
       "      <td>0.586898</td>\n",
       "      <td>0.621658</td>\n",
       "      <td>0.597594</td>\n",
       "      <td>0.606988</td>\n",
       "      <td>0.016971</td>\n",
       "      <td>4</td>\n",
       "    </tr>\n",
       "    <tr>\n",
       "      <th>22</th>\n",
       "      <td>0.567532</td>\n",
       "      <td>0.046718</td>\n",
       "      <td>0.037932</td>\n",
       "      <td>0.000941</td>\n",
       "      <td>120</td>\n",
       "      <td>2</td>\n",
       "      <td>0.5</td>\n",
       "      <td>None</td>\n",
       "      <td>gini</td>\n",
       "      <td>{'n_estimators': 120, 'min_samples_leaf': 2, '...</td>\n",
       "      <td>0.631509</td>\n",
       "      <td>0.572764</td>\n",
       "      <td>0.606142</td>\n",
       "      <td>0.618984</td>\n",
       "      <td>0.608289</td>\n",
       "      <td>0.604278</td>\n",
       "      <td>0.600267</td>\n",
       "      <td>0.606033</td>\n",
       "      <td>0.016755</td>\n",
       "      <td>5</td>\n",
       "    </tr>\n",
       "    <tr>\n",
       "      <th>7</th>\n",
       "      <td>0.473930</td>\n",
       "      <td>0.007219</td>\n",
       "      <td>0.047920</td>\n",
       "      <td>0.000732</td>\n",
       "      <td>200</td>\n",
       "      <td>1</td>\n",
       "      <td>0.1</td>\n",
       "      <td>None</td>\n",
       "      <td>entropy</td>\n",
       "      <td>{'n_estimators': 200, 'min_samples_leaf': 1, '...</td>\n",
       "      <td>0.619493</td>\n",
       "      <td>0.556742</td>\n",
       "      <td>0.599466</td>\n",
       "      <td>0.636364</td>\n",
       "      <td>0.593583</td>\n",
       "      <td>0.608289</td>\n",
       "      <td>0.625668</td>\n",
       "      <td>0.605658</td>\n",
       "      <td>0.024256</td>\n",
       "      <td>6</td>\n",
       "    </tr>\n",
       "    <tr>\n",
       "      <th>13</th>\n",
       "      <td>0.265487</td>\n",
       "      <td>0.003943</td>\n",
       "      <td>0.026147</td>\n",
       "      <td>0.000236</td>\n",
       "      <td>100</td>\n",
       "      <td>4</td>\n",
       "      <td>0.7</td>\n",
       "      <td>sqrt</td>\n",
       "      <td>entropy</td>\n",
       "      <td>{'n_estimators': 100, 'min_samples_leaf': 4, '...</td>\n",
       "      <td>0.615487</td>\n",
       "      <td>0.579439</td>\n",
       "      <td>0.598131</td>\n",
       "      <td>0.622995</td>\n",
       "      <td>0.596257</td>\n",
       "      <td>0.604278</td>\n",
       "      <td>0.618984</td>\n",
       "      <td>0.605082</td>\n",
       "      <td>0.014176</td>\n",
       "      <td>7</td>\n",
       "    </tr>\n",
       "    <tr>\n",
       "      <th>28</th>\n",
       "      <td>0.242934</td>\n",
       "      <td>0.002195</td>\n",
       "      <td>0.026324</td>\n",
       "      <td>0.000428</td>\n",
       "      <td>100</td>\n",
       "      <td>6</td>\n",
       "      <td>0.7</td>\n",
       "      <td>sqrt</td>\n",
       "      <td>log_loss</td>\n",
       "      <td>{'n_estimators': 100, 'min_samples_leaf': 6, '...</td>\n",
       "      <td>0.602136</td>\n",
       "      <td>0.574099</td>\n",
       "      <td>0.587450</td>\n",
       "      <td>0.639037</td>\n",
       "      <td>0.586898</td>\n",
       "      <td>0.621658</td>\n",
       "      <td>0.622995</td>\n",
       "      <td>0.604896</td>\n",
       "      <td>0.021904</td>\n",
       "      <td>8</td>\n",
       "    </tr>\n",
       "    <tr>\n",
       "      <th>16</th>\n",
       "      <td>0.444279</td>\n",
       "      <td>0.005922</td>\n",
       "      <td>0.048649</td>\n",
       "      <td>0.000692</td>\n",
       "      <td>200</td>\n",
       "      <td>6</td>\n",
       "      <td>0.7</td>\n",
       "      <td>log2</td>\n",
       "      <td>gini</td>\n",
       "      <td>{'n_estimators': 200, 'min_samples_leaf': 6, '...</td>\n",
       "      <td>0.614152</td>\n",
       "      <td>0.572764</td>\n",
       "      <td>0.599466</td>\n",
       "      <td>0.636364</td>\n",
       "      <td>0.590909</td>\n",
       "      <td>0.609626</td>\n",
       "      <td>0.610963</td>\n",
       "      <td>0.604892</td>\n",
       "      <td>0.018488</td>\n",
       "      <td>9</td>\n",
       "    </tr>\n",
       "    <tr>\n",
       "      <th>10</th>\n",
       "      <td>0.218723</td>\n",
       "      <td>0.004430</td>\n",
       "      <td>0.015428</td>\n",
       "      <td>0.000497</td>\n",
       "      <td>50</td>\n",
       "      <td>6</td>\n",
       "      <td>0.7</td>\n",
       "      <td>None</td>\n",
       "      <td>gini</td>\n",
       "      <td>{'n_estimators': 50, 'min_samples_leaf': 6, 'm...</td>\n",
       "      <td>0.614152</td>\n",
       "      <td>0.571429</td>\n",
       "      <td>0.594126</td>\n",
       "      <td>0.620321</td>\n",
       "      <td>0.597594</td>\n",
       "      <td>0.617647</td>\n",
       "      <td>0.614973</td>\n",
       "      <td>0.604320</td>\n",
       "      <td>0.016366</td>\n",
       "      <td>10</td>\n",
       "    </tr>\n",
       "    <tr>\n",
       "      <th>27</th>\n",
       "      <td>0.191211</td>\n",
       "      <td>0.002350</td>\n",
       "      <td>0.026533</td>\n",
       "      <td>0.000756</td>\n",
       "      <td>100</td>\n",
       "      <td>6</td>\n",
       "      <td>0.1</td>\n",
       "      <td>None</td>\n",
       "      <td>gini</td>\n",
       "      <td>{'n_estimators': 100, 'min_samples_leaf': 6, '...</td>\n",
       "      <td>0.618158</td>\n",
       "      <td>0.550067</td>\n",
       "      <td>0.600801</td>\n",
       "      <td>0.636364</td>\n",
       "      <td>0.602941</td>\n",
       "      <td>0.596257</td>\n",
       "      <td>0.616310</td>\n",
       "      <td>0.602985</td>\n",
       "      <td>0.024992</td>\n",
       "      <td>11</td>\n",
       "    </tr>\n",
       "    <tr>\n",
       "      <th>11</th>\n",
       "      <td>0.657322</td>\n",
       "      <td>0.008956</td>\n",
       "      <td>0.036947</td>\n",
       "      <td>0.000545</td>\n",
       "      <td>140</td>\n",
       "      <td>6</td>\n",
       "      <td>0.7</td>\n",
       "      <td>None</td>\n",
       "      <td>log_loss</td>\n",
       "      <td>{'n_estimators': 140, 'min_samples_leaf': 6, '...</td>\n",
       "      <td>0.602136</td>\n",
       "      <td>0.568758</td>\n",
       "      <td>0.598131</td>\n",
       "      <td>0.625668</td>\n",
       "      <td>0.594920</td>\n",
       "      <td>0.610963</td>\n",
       "      <td>0.617647</td>\n",
       "      <td>0.602603</td>\n",
       "      <td>0.017125</td>\n",
       "      <td>12</td>\n",
       "    </tr>\n",
       "    <tr>\n",
       "      <th>29</th>\n",
       "      <td>0.773794</td>\n",
       "      <td>0.007330</td>\n",
       "      <td>0.047736</td>\n",
       "      <td>0.000635</td>\n",
       "      <td>200</td>\n",
       "      <td>10</td>\n",
       "      <td>0.7</td>\n",
       "      <td>None</td>\n",
       "      <td>entropy</td>\n",
       "      <td>{'n_estimators': 200, 'min_samples_leaf': 10, ...</td>\n",
       "      <td>0.618158</td>\n",
       "      <td>0.559413</td>\n",
       "      <td>0.606142</td>\n",
       "      <td>0.618984</td>\n",
       "      <td>0.585561</td>\n",
       "      <td>0.610963</td>\n",
       "      <td>0.616310</td>\n",
       "      <td>0.602219</td>\n",
       "      <td>0.020478</td>\n",
       "      <td>13</td>\n",
       "    </tr>\n",
       "    <tr>\n",
       "      <th>8</th>\n",
       "      <td>0.202489</td>\n",
       "      <td>0.003802</td>\n",
       "      <td>0.026081</td>\n",
       "      <td>0.000413</td>\n",
       "      <td>100</td>\n",
       "      <td>10</td>\n",
       "      <td>0.5</td>\n",
       "      <td>sqrt</td>\n",
       "      <td>entropy</td>\n",
       "      <td>{'n_estimators': 100, 'min_samples_leaf': 10, ...</td>\n",
       "      <td>0.608812</td>\n",
       "      <td>0.566088</td>\n",
       "      <td>0.595461</td>\n",
       "      <td>0.633690</td>\n",
       "      <td>0.593583</td>\n",
       "      <td>0.604278</td>\n",
       "      <td>0.609626</td>\n",
       "      <td>0.601648</td>\n",
       "      <td>0.018960</td>\n",
       "      <td>14</td>\n",
       "    </tr>\n",
       "    <tr>\n",
       "      <th>15</th>\n",
       "      <td>0.271745</td>\n",
       "      <td>0.004104</td>\n",
       "      <td>0.037356</td>\n",
       "      <td>0.000484</td>\n",
       "      <td>140</td>\n",
       "      <td>4</td>\n",
       "      <td>0.3</td>\n",
       "      <td>sqrt</td>\n",
       "      <td>gini</td>\n",
       "      <td>{'n_estimators': 140, 'min_samples_leaf': 4, '...</td>\n",
       "      <td>0.618158</td>\n",
       "      <td>0.575434</td>\n",
       "      <td>0.582109</td>\n",
       "      <td>0.624332</td>\n",
       "      <td>0.593583</td>\n",
       "      <td>0.610963</td>\n",
       "      <td>0.605615</td>\n",
       "      <td>0.601456</td>\n",
       "      <td>0.017001</td>\n",
       "      <td>15</td>\n",
       "    </tr>\n",
       "    <tr>\n",
       "      <th>19</th>\n",
       "      <td>0.230258</td>\n",
       "      <td>0.003897</td>\n",
       "      <td>0.026072</td>\n",
       "      <td>0.000402</td>\n",
       "      <td>100</td>\n",
       "      <td>10</td>\n",
       "      <td>0.9</td>\n",
       "      <td>sqrt</td>\n",
       "      <td>log_loss</td>\n",
       "      <td>{'n_estimators': 100, 'min_samples_leaf': 10, ...</td>\n",
       "      <td>0.611482</td>\n",
       "      <td>0.558077</td>\n",
       "      <td>0.591455</td>\n",
       "      <td>0.628342</td>\n",
       "      <td>0.590909</td>\n",
       "      <td>0.616310</td>\n",
       "      <td>0.606952</td>\n",
       "      <td>0.600504</td>\n",
       "      <td>0.021250</td>\n",
       "      <td>16</td>\n",
       "    </tr>\n",
       "    <tr>\n",
       "      <th>20</th>\n",
       "      <td>0.290639</td>\n",
       "      <td>0.002925</td>\n",
       "      <td>0.037393</td>\n",
       "      <td>0.000655</td>\n",
       "      <td>140</td>\n",
       "      <td>6</td>\n",
       "      <td>0.5</td>\n",
       "      <td>sqrt</td>\n",
       "      <td>gini</td>\n",
       "      <td>{'n_estimators': 140, 'min_samples_leaf': 6, '...</td>\n",
       "      <td>0.610147</td>\n",
       "      <td>0.567423</td>\n",
       "      <td>0.586115</td>\n",
       "      <td>0.627005</td>\n",
       "      <td>0.597594</td>\n",
       "      <td>0.612299</td>\n",
       "      <td>0.601604</td>\n",
       "      <td>0.600313</td>\n",
       "      <td>0.017909</td>\n",
       "      <td>17</td>\n",
       "    </tr>\n",
       "    <tr>\n",
       "      <th>6</th>\n",
       "      <td>0.309262</td>\n",
       "      <td>0.002981</td>\n",
       "      <td>0.037083</td>\n",
       "      <td>0.000555</td>\n",
       "      <td>140</td>\n",
       "      <td>1</td>\n",
       "      <td>0.1</td>\n",
       "      <td>None</td>\n",
       "      <td>gini</td>\n",
       "      <td>{'n_estimators': 140, 'min_samples_leaf': 1, '...</td>\n",
       "      <td>0.610147</td>\n",
       "      <td>0.575434</td>\n",
       "      <td>0.591455</td>\n",
       "      <td>0.631016</td>\n",
       "      <td>0.585561</td>\n",
       "      <td>0.589572</td>\n",
       "      <td>0.618984</td>\n",
       "      <td>0.600310</td>\n",
       "      <td>0.018587</td>\n",
       "      <td>18</td>\n",
       "    </tr>\n",
       "    <tr>\n",
       "      <th>9</th>\n",
       "      <td>0.212510</td>\n",
       "      <td>0.001283</td>\n",
       "      <td>0.026002</td>\n",
       "      <td>0.000001</td>\n",
       "      <td>100</td>\n",
       "      <td>6</td>\n",
       "      <td>0.5</td>\n",
       "      <td>sqrt</td>\n",
       "      <td>gini</td>\n",
       "      <td>{'n_estimators': 100, 'min_samples_leaf': 6, '...</td>\n",
       "      <td>0.603471</td>\n",
       "      <td>0.572764</td>\n",
       "      <td>0.586115</td>\n",
       "      <td>0.625668</td>\n",
       "      <td>0.593583</td>\n",
       "      <td>0.613636</td>\n",
       "      <td>0.605615</td>\n",
       "      <td>0.600122</td>\n",
       "      <td>0.016319</td>\n",
       "      <td>19</td>\n",
       "    </tr>\n",
       "    <tr>\n",
       "      <th>18</th>\n",
       "      <td>0.140199</td>\n",
       "      <td>0.007046</td>\n",
       "      <td>0.015076</td>\n",
       "      <td>0.000183</td>\n",
       "      <td>50</td>\n",
       "      <td>6</td>\n",
       "      <td>0.9</td>\n",
       "      <td>sqrt</td>\n",
       "      <td>entropy</td>\n",
       "      <td>{'n_estimators': 50, 'min_samples_leaf': 6, 'm...</td>\n",
       "      <td>0.615487</td>\n",
       "      <td>0.563418</td>\n",
       "      <td>0.591455</td>\n",
       "      <td>0.621658</td>\n",
       "      <td>0.574866</td>\n",
       "      <td>0.613636</td>\n",
       "      <td>0.617647</td>\n",
       "      <td>0.599738</td>\n",
       "      <td>0.021543</td>\n",
       "      <td>20</td>\n",
       "    </tr>\n",
       "    <tr>\n",
       "      <th>3</th>\n",
       "      <td>0.276839</td>\n",
       "      <td>0.006065</td>\n",
       "      <td>0.026143</td>\n",
       "      <td>0.000351</td>\n",
       "      <td>100</td>\n",
       "      <td>6</td>\n",
       "      <td>0.3</td>\n",
       "      <td>None</td>\n",
       "      <td>gini</td>\n",
       "      <td>{'n_estimators': 100, 'min_samples_leaf': 6, '...</td>\n",
       "      <td>0.622163</td>\n",
       "      <td>0.560748</td>\n",
       "      <td>0.604806</td>\n",
       "      <td>0.621658</td>\n",
       "      <td>0.578877</td>\n",
       "      <td>0.598930</td>\n",
       "      <td>0.608289</td>\n",
       "      <td>0.599353</td>\n",
       "      <td>0.020830</td>\n",
       "      <td>21</td>\n",
       "    </tr>\n",
       "    <tr>\n",
       "      <th>14</th>\n",
       "      <td>0.191642</td>\n",
       "      <td>0.003383</td>\n",
       "      <td>0.026094</td>\n",
       "      <td>0.000372</td>\n",
       "      <td>100</td>\n",
       "      <td>8</td>\n",
       "      <td>0.1</td>\n",
       "      <td>None</td>\n",
       "      <td>log_loss</td>\n",
       "      <td>{'n_estimators': 100, 'min_samples_leaf': 8, '...</td>\n",
       "      <td>0.612817</td>\n",
       "      <td>0.570093</td>\n",
       "      <td>0.594126</td>\n",
       "      <td>0.629679</td>\n",
       "      <td>0.576203</td>\n",
       "      <td>0.594920</td>\n",
       "      <td>0.616310</td>\n",
       "      <td>0.599164</td>\n",
       "      <td>0.020097</td>\n",
       "      <td>22</td>\n",
       "    </tr>\n",
       "    <tr>\n",
       "      <th>21</th>\n",
       "      <td>0.377440</td>\n",
       "      <td>0.006052</td>\n",
       "      <td>0.048194</td>\n",
       "      <td>0.000457</td>\n",
       "      <td>200</td>\n",
       "      <td>6</td>\n",
       "      <td>0.3</td>\n",
       "      <td>sqrt</td>\n",
       "      <td>gini</td>\n",
       "      <td>{'n_estimators': 200, 'min_samples_leaf': 6, '...</td>\n",
       "      <td>0.615487</td>\n",
       "      <td>0.563418</td>\n",
       "      <td>0.584780</td>\n",
       "      <td>0.620321</td>\n",
       "      <td>0.592246</td>\n",
       "      <td>0.606952</td>\n",
       "      <td>0.604278</td>\n",
       "      <td>0.598212</td>\n",
       "      <td>0.018233</td>\n",
       "      <td>23</td>\n",
       "    </tr>\n",
       "    <tr>\n",
       "      <th>23</th>\n",
       "      <td>0.382086</td>\n",
       "      <td>0.014605</td>\n",
       "      <td>0.048552</td>\n",
       "      <td>0.000413</td>\n",
       "      <td>200</td>\n",
       "      <td>1</td>\n",
       "      <td>0.1</td>\n",
       "      <td>log2</td>\n",
       "      <td>log_loss</td>\n",
       "      <td>{'n_estimators': 200, 'min_samples_leaf': 1, '...</td>\n",
       "      <td>0.603471</td>\n",
       "      <td>0.571429</td>\n",
       "      <td>0.594126</td>\n",
       "      <td>0.624332</td>\n",
       "      <td>0.586898</td>\n",
       "      <td>0.593583</td>\n",
       "      <td>0.609626</td>\n",
       "      <td>0.597638</td>\n",
       "      <td>0.015681</td>\n",
       "      <td>24</td>\n",
       "    </tr>\n",
       "    <tr>\n",
       "      <th>17</th>\n",
       "      <td>0.112843</td>\n",
       "      <td>0.003605</td>\n",
       "      <td>0.015430</td>\n",
       "      <td>0.000495</td>\n",
       "      <td>50</td>\n",
       "      <td>10</td>\n",
       "      <td>0.7</td>\n",
       "      <td>sqrt</td>\n",
       "      <td>gini</td>\n",
       "      <td>{'n_estimators': 50, 'min_samples_leaf': 10, '...</td>\n",
       "      <td>0.599466</td>\n",
       "      <td>0.562083</td>\n",
       "      <td>0.580774</td>\n",
       "      <td>0.636364</td>\n",
       "      <td>0.592246</td>\n",
       "      <td>0.596257</td>\n",
       "      <td>0.605615</td>\n",
       "      <td>0.596115</td>\n",
       "      <td>0.021146</td>\n",
       "      <td>25</td>\n",
       "    </tr>\n",
       "    <tr>\n",
       "      <th>26</th>\n",
       "      <td>0.317060</td>\n",
       "      <td>0.006846</td>\n",
       "      <td>0.015434</td>\n",
       "      <td>0.000419</td>\n",
       "      <td>50</td>\n",
       "      <td>1</td>\n",
       "      <td>0.7</td>\n",
       "      <td>None</td>\n",
       "      <td>gini</td>\n",
       "      <td>{'n_estimators': 50, 'min_samples_leaf': 1, 'm...</td>\n",
       "      <td>0.600801</td>\n",
       "      <td>0.563418</td>\n",
       "      <td>0.594126</td>\n",
       "      <td>0.613636</td>\n",
       "      <td>0.592246</td>\n",
       "      <td>0.624332</td>\n",
       "      <td>0.578877</td>\n",
       "      <td>0.595348</td>\n",
       "      <td>0.018922</td>\n",
       "      <td>26</td>\n",
       "    </tr>\n",
       "    <tr>\n",
       "      <th>2</th>\n",
       "      <td>0.108756</td>\n",
       "      <td>0.001676</td>\n",
       "      <td>0.015394</td>\n",
       "      <td>0.000542</td>\n",
       "      <td>50</td>\n",
       "      <td>10</td>\n",
       "      <td>0.5</td>\n",
       "      <td>sqrt</td>\n",
       "      <td>entropy</td>\n",
       "      <td>{'n_estimators': 50, 'min_samples_leaf': 10, '...</td>\n",
       "      <td>0.596796</td>\n",
       "      <td>0.564753</td>\n",
       "      <td>0.582109</td>\n",
       "      <td>0.629679</td>\n",
       "      <td>0.592246</td>\n",
       "      <td>0.598930</td>\n",
       "      <td>0.598930</td>\n",
       "      <td>0.594778</td>\n",
       "      <td>0.018225</td>\n",
       "      <td>27</td>\n",
       "    </tr>\n",
       "    <tr>\n",
       "      <th>25</th>\n",
       "      <td>0.319861</td>\n",
       "      <td>0.005379</td>\n",
       "      <td>0.048074</td>\n",
       "      <td>0.000483</td>\n",
       "      <td>200</td>\n",
       "      <td>8</td>\n",
       "      <td>0.1</td>\n",
       "      <td>log2</td>\n",
       "      <td>entropy</td>\n",
       "      <td>{'n_estimators': 200, 'min_samples_leaf': 8, '...</td>\n",
       "      <td>0.602136</td>\n",
       "      <td>0.564753</td>\n",
       "      <td>0.582109</td>\n",
       "      <td>0.613636</td>\n",
       "      <td>0.584225</td>\n",
       "      <td>0.584225</td>\n",
       "      <td>0.598930</td>\n",
       "      <td>0.590002</td>\n",
       "      <td>0.014891</td>\n",
       "      <td>28</td>\n",
       "    </tr>\n",
       "    <tr>\n",
       "      <th>12</th>\n",
       "      <td>0.096789</td>\n",
       "      <td>0.004888</td>\n",
       "      <td>0.017086</td>\n",
       "      <td>0.004502</td>\n",
       "      <td>50</td>\n",
       "      <td>6</td>\n",
       "      <td>0.1</td>\n",
       "      <td>sqrt</td>\n",
       "      <td>log_loss</td>\n",
       "      <td>{'n_estimators': 50, 'min_samples_leaf': 6, 'm...</td>\n",
       "      <td>0.600801</td>\n",
       "      <td>0.563418</td>\n",
       "      <td>0.572764</td>\n",
       "      <td>0.620321</td>\n",
       "      <td>0.584225</td>\n",
       "      <td>0.576203</td>\n",
       "      <td>0.588235</td>\n",
       "      <td>0.586567</td>\n",
       "      <td>0.017664</td>\n",
       "      <td>29</td>\n",
       "    </tr>\n",
       "    <tr>\n",
       "      <th>4</th>\n",
       "      <td>0.086941</td>\n",
       "      <td>0.003349</td>\n",
       "      <td>0.015143</td>\n",
       "      <td>0.000351</td>\n",
       "      <td>50</td>\n",
       "      <td>10</td>\n",
       "      <td>0.1</td>\n",
       "      <td>log2</td>\n",
       "      <td>log_loss</td>\n",
       "      <td>{'n_estimators': 50, 'min_samples_leaf': 10, '...</td>\n",
       "      <td>0.584780</td>\n",
       "      <td>0.572764</td>\n",
       "      <td>0.576769</td>\n",
       "      <td>0.608289</td>\n",
       "      <td>0.566845</td>\n",
       "      <td>0.576203</td>\n",
       "      <td>0.585561</td>\n",
       "      <td>0.581602</td>\n",
       "      <td>0.012458</td>\n",
       "      <td>30</td>\n",
       "    </tr>\n",
       "  </tbody>\n",
       "</table>\n",
       "</div>"
      ],
      "text/plain": [
       "    mean_fit_time  std_fit_time  mean_score_time  std_score_time  \\\n",
       "0        0.467844      0.007162         0.048335        0.000392   \n",
       "1        0.262127      0.004261         0.026380        0.000548   \n",
       "24       0.644391      0.009095         0.048427        0.000498   \n",
       "5        0.478071      0.012470         0.037036        0.000473   \n",
       "22       0.567532      0.046718         0.037932        0.000941   \n",
       "7        0.473930      0.007219         0.047920        0.000732   \n",
       "13       0.265487      0.003943         0.026147        0.000236   \n",
       "28       0.242934      0.002195         0.026324        0.000428   \n",
       "16       0.444279      0.005922         0.048649        0.000692   \n",
       "10       0.218723      0.004430         0.015428        0.000497   \n",
       "27       0.191211      0.002350         0.026533        0.000756   \n",
       "11       0.657322      0.008956         0.036947        0.000545   \n",
       "29       0.773794      0.007330         0.047736        0.000635   \n",
       "8        0.202489      0.003802         0.026081        0.000413   \n",
       "15       0.271745      0.004104         0.037356        0.000484   \n",
       "19       0.230258      0.003897         0.026072        0.000402   \n",
       "20       0.290639      0.002925         0.037393        0.000655   \n",
       "6        0.309262      0.002981         0.037083        0.000555   \n",
       "9        0.212510      0.001283         0.026002        0.000001   \n",
       "18       0.140199      0.007046         0.015076        0.000183   \n",
       "3        0.276839      0.006065         0.026143        0.000351   \n",
       "14       0.191642      0.003383         0.026094        0.000372   \n",
       "21       0.377440      0.006052         0.048194        0.000457   \n",
       "23       0.382086      0.014605         0.048552        0.000413   \n",
       "17       0.112843      0.003605         0.015430        0.000495   \n",
       "26       0.317060      0.006846         0.015434        0.000419   \n",
       "2        0.108756      0.001676         0.015394        0.000542   \n",
       "25       0.319861      0.005379         0.048074        0.000483   \n",
       "12       0.096789      0.004888         0.017086        0.004502   \n",
       "4        0.086941      0.003349         0.015143        0.000351   \n",
       "\n",
       "   param_n_estimators param_min_samples_leaf param_max_samples  \\\n",
       "0                 200                      6               0.9   \n",
       "1                 100                      6               0.9   \n",
       "24                200                      2               0.9   \n",
       "5                 120                      1               0.3   \n",
       "22                120                      2               0.5   \n",
       "7                 200                      1               0.1   \n",
       "13                100                      4               0.7   \n",
       "28                100                      6               0.7   \n",
       "16                200                      6               0.7   \n",
       "10                 50                      6               0.7   \n",
       "27                100                      6               0.1   \n",
       "11                140                      6               0.7   \n",
       "29                200                     10               0.7   \n",
       "8                 100                     10               0.5   \n",
       "15                140                      4               0.3   \n",
       "19                100                     10               0.9   \n",
       "20                140                      6               0.5   \n",
       "6                 140                      1               0.1   \n",
       "9                 100                      6               0.5   \n",
       "18                 50                      6               0.9   \n",
       "3                 100                      6               0.3   \n",
       "14                100                      8               0.1   \n",
       "21                200                      6               0.3   \n",
       "23                200                      1               0.1   \n",
       "17                 50                     10               0.7   \n",
       "26                 50                      1               0.7   \n",
       "2                  50                     10               0.5   \n",
       "25                200                      8               0.1   \n",
       "12                 50                      6               0.1   \n",
       "4                  50                     10               0.1   \n",
       "\n",
       "   param_max_features param_criterion  \\\n",
       "0                log2            gini   \n",
       "1                sqrt        log_loss   \n",
       "24               sqrt        log_loss   \n",
       "5                None         entropy   \n",
       "22               None            gini   \n",
       "7                None         entropy   \n",
       "13               sqrt         entropy   \n",
       "28               sqrt        log_loss   \n",
       "16               log2            gini   \n",
       "10               None            gini   \n",
       "27               None            gini   \n",
       "11               None        log_loss   \n",
       "29               None         entropy   \n",
       "8                sqrt         entropy   \n",
       "15               sqrt            gini   \n",
       "19               sqrt        log_loss   \n",
       "20               sqrt            gini   \n",
       "6                None            gini   \n",
       "9                sqrt            gini   \n",
       "18               sqrt         entropy   \n",
       "3                None            gini   \n",
       "14               None        log_loss   \n",
       "21               sqrt            gini   \n",
       "23               log2        log_loss   \n",
       "17               sqrt            gini   \n",
       "26               None            gini   \n",
       "2                sqrt         entropy   \n",
       "25               log2         entropy   \n",
       "12               sqrt        log_loss   \n",
       "4                log2        log_loss   \n",
       "\n",
       "                                               params  split0_test_score  \\\n",
       "0   {'n_estimators': 200, 'min_samples_leaf': 6, '...           0.618158   \n",
       "1   {'n_estimators': 100, 'min_samples_leaf': 6, '...           0.618158   \n",
       "24  {'n_estimators': 200, 'min_samples_leaf': 2, '...           0.612817   \n",
       "5   {'n_estimators': 120, 'min_samples_leaf': 1, '...           0.623498   \n",
       "22  {'n_estimators': 120, 'min_samples_leaf': 2, '...           0.631509   \n",
       "7   {'n_estimators': 200, 'min_samples_leaf': 1, '...           0.619493   \n",
       "13  {'n_estimators': 100, 'min_samples_leaf': 4, '...           0.615487   \n",
       "28  {'n_estimators': 100, 'min_samples_leaf': 6, '...           0.602136   \n",
       "16  {'n_estimators': 200, 'min_samples_leaf': 6, '...           0.614152   \n",
       "10  {'n_estimators': 50, 'min_samples_leaf': 6, 'm...           0.614152   \n",
       "27  {'n_estimators': 100, 'min_samples_leaf': 6, '...           0.618158   \n",
       "11  {'n_estimators': 140, 'min_samples_leaf': 6, '...           0.602136   \n",
       "29  {'n_estimators': 200, 'min_samples_leaf': 10, ...           0.618158   \n",
       "8   {'n_estimators': 100, 'min_samples_leaf': 10, ...           0.608812   \n",
       "15  {'n_estimators': 140, 'min_samples_leaf': 4, '...           0.618158   \n",
       "19  {'n_estimators': 100, 'min_samples_leaf': 10, ...           0.611482   \n",
       "20  {'n_estimators': 140, 'min_samples_leaf': 6, '...           0.610147   \n",
       "6   {'n_estimators': 140, 'min_samples_leaf': 1, '...           0.610147   \n",
       "9   {'n_estimators': 100, 'min_samples_leaf': 6, '...           0.603471   \n",
       "18  {'n_estimators': 50, 'min_samples_leaf': 6, 'm...           0.615487   \n",
       "3   {'n_estimators': 100, 'min_samples_leaf': 6, '...           0.622163   \n",
       "14  {'n_estimators': 100, 'min_samples_leaf': 8, '...           0.612817   \n",
       "21  {'n_estimators': 200, 'min_samples_leaf': 6, '...           0.615487   \n",
       "23  {'n_estimators': 200, 'min_samples_leaf': 1, '...           0.603471   \n",
       "17  {'n_estimators': 50, 'min_samples_leaf': 10, '...           0.599466   \n",
       "26  {'n_estimators': 50, 'min_samples_leaf': 1, 'm...           0.600801   \n",
       "2   {'n_estimators': 50, 'min_samples_leaf': 10, '...           0.596796   \n",
       "25  {'n_estimators': 200, 'min_samples_leaf': 8, '...           0.602136   \n",
       "12  {'n_estimators': 50, 'min_samples_leaf': 6, 'm...           0.600801   \n",
       "4   {'n_estimators': 50, 'min_samples_leaf': 10, '...           0.584780   \n",
       "\n",
       "    split1_test_score  split2_test_score  split3_test_score  \\\n",
       "0            0.578104           0.599466           0.640374   \n",
       "1            0.578104           0.590120           0.636364   \n",
       "24           0.584780           0.602136           0.617647   \n",
       "5            0.586115           0.602136           0.631016   \n",
       "22           0.572764           0.606142           0.618984   \n",
       "7            0.556742           0.599466           0.636364   \n",
       "13           0.579439           0.598131           0.622995   \n",
       "28           0.574099           0.587450           0.639037   \n",
       "16           0.572764           0.599466           0.636364   \n",
       "10           0.571429           0.594126           0.620321   \n",
       "27           0.550067           0.600801           0.636364   \n",
       "11           0.568758           0.598131           0.625668   \n",
       "29           0.559413           0.606142           0.618984   \n",
       "8            0.566088           0.595461           0.633690   \n",
       "15           0.575434           0.582109           0.624332   \n",
       "19           0.558077           0.591455           0.628342   \n",
       "20           0.567423           0.586115           0.627005   \n",
       "6            0.575434           0.591455           0.631016   \n",
       "9            0.572764           0.586115           0.625668   \n",
       "18           0.563418           0.591455           0.621658   \n",
       "3            0.560748           0.604806           0.621658   \n",
       "14           0.570093           0.594126           0.629679   \n",
       "21           0.563418           0.584780           0.620321   \n",
       "23           0.571429           0.594126           0.624332   \n",
       "17           0.562083           0.580774           0.636364   \n",
       "26           0.563418           0.594126           0.613636   \n",
       "2            0.564753           0.582109           0.629679   \n",
       "25           0.564753           0.582109           0.613636   \n",
       "12           0.563418           0.572764           0.620321   \n",
       "4            0.572764           0.576769           0.608289   \n",
       "\n",
       "    split4_test_score  split5_test_score  split6_test_score  mean_test_score  \\\n",
       "0            0.600267           0.616310           0.614973         0.609665   \n",
       "1            0.597594           0.629679           0.612299         0.608903   \n",
       "24           0.601604           0.621658           0.616310         0.608136   \n",
       "5            0.586898           0.621658           0.597594         0.606988   \n",
       "22           0.608289           0.604278           0.600267         0.606033   \n",
       "7            0.593583           0.608289           0.625668         0.605658   \n",
       "13           0.596257           0.604278           0.618984         0.605082   \n",
       "28           0.586898           0.621658           0.622995         0.604896   \n",
       "16           0.590909           0.609626           0.610963         0.604892   \n",
       "10           0.597594           0.617647           0.614973         0.604320   \n",
       "27           0.602941           0.596257           0.616310         0.602985   \n",
       "11           0.594920           0.610963           0.617647         0.602603   \n",
       "29           0.585561           0.610963           0.616310         0.602219   \n",
       "8            0.593583           0.604278           0.609626         0.601648   \n",
       "15           0.593583           0.610963           0.605615         0.601456   \n",
       "19           0.590909           0.616310           0.606952         0.600504   \n",
       "20           0.597594           0.612299           0.601604         0.600313   \n",
       "6            0.585561           0.589572           0.618984         0.600310   \n",
       "9            0.593583           0.613636           0.605615         0.600122   \n",
       "18           0.574866           0.613636           0.617647         0.599738   \n",
       "3            0.578877           0.598930           0.608289         0.599353   \n",
       "14           0.576203           0.594920           0.616310         0.599164   \n",
       "21           0.592246           0.606952           0.604278         0.598212   \n",
       "23           0.586898           0.593583           0.609626         0.597638   \n",
       "17           0.592246           0.596257           0.605615         0.596115   \n",
       "26           0.592246           0.624332           0.578877         0.595348   \n",
       "2            0.592246           0.598930           0.598930         0.594778   \n",
       "25           0.584225           0.584225           0.598930         0.590002   \n",
       "12           0.584225           0.576203           0.588235         0.586567   \n",
       "4            0.566845           0.576203           0.585561         0.581602   \n",
       "\n",
       "    std_test_score  rank_test_score  \n",
       "0         0.018032                1  \n",
       "1         0.019684                2  \n",
       "24        0.011870                3  \n",
       "5         0.016971                4  \n",
       "22        0.016755                5  \n",
       "7         0.024256                6  \n",
       "13        0.014176                7  \n",
       "28        0.021904                8  \n",
       "16        0.018488                9  \n",
       "10        0.016366               10  \n",
       "27        0.024992               11  \n",
       "11        0.017125               12  \n",
       "29        0.020478               13  \n",
       "8         0.018960               14  \n",
       "15        0.017001               15  \n",
       "19        0.021250               16  \n",
       "20        0.017909               17  \n",
       "6         0.018587               18  \n",
       "9         0.016319               19  \n",
       "18        0.021543               20  \n",
       "3         0.020830               21  \n",
       "14        0.020097               22  \n",
       "21        0.018233               23  \n",
       "23        0.015681               24  \n",
       "17        0.021146               25  \n",
       "26        0.018922               26  \n",
       "2         0.018225               27  \n",
       "25        0.014891               28  \n",
       "12        0.017664               29  \n",
       "4         0.012458               30  "
      ]
     },
     "execution_count": 49,
     "metadata": {},
     "output_type": "execute_result"
    }
   ],
   "source": [
    "rsr_results = pd.DataFrame(rsr.cv_results_).sort_values(by=[\"rank_test_score\"])\n",
    "rsr_results"
   ]
  },
  {
   "cell_type": "markdown",
   "id": "f0e67e5c-d4d8-4363-968c-6f513b4d9611",
   "metadata": {},
   "source": [
    "The updated predictions are as follows:"
   ]
  },
  {
   "cell_type": "code",
   "execution_count": 50,
   "id": "42b32aa3-e418-490d-95d7-6de90ffdc4ec",
   "metadata": {},
   "outputs": [
    {
     "name": "stdout",
     "output_type": "stream",
     "text": [
      "Random forest classifier train accuracy: 80.7215 %\n"
     ]
    }
   ],
   "source": [
    "tuned_predictions_train = best_estimator_rf.predict(X_train)\n",
    "tuned_acc_train_rf = compute_accuracy(tuned_predictions_train, y_train)\n",
    "print(\"Random forest classifier train accuracy:\", tuned_acc_train_rf, \"%\")"
   ]
  },
  {
   "cell_type": "code",
   "execution_count": 51,
   "id": "3389d0f9-6e98-4118-a4f8-c1b4ab06be4c",
   "metadata": {},
   "outputs": [
    {
     "name": "stdout",
     "output_type": "stream",
     "text": [
      "Random forest classifier test accuracy: 59.7023 %\n"
     ]
    }
   ],
   "source": [
    "tuned_predictions_test = best_estimator_rf.predict(X_test)\n",
    "tuned_acc_test_rf = compute_accuracy(tuned_predictions_test, y_test)\n",
    "print(\"Random forest classifier test accuracy:\", tuned_acc_test_rf, \"%\")"
   ]
  },
  {
   "cell_type": "markdown",
   "id": "247a8ebd-efa5-48fd-81df-b9ba6ec317ef",
   "metadata": {},
   "source": [
    "Compared to the model's initial performance on default hyperparameter values, the variance of the tuned model has lessened given that it performs slightly worse on the training set and slightly better on the test set. Only minimal improvements to prediction accuracy were made using the best hyperparameters identified using the Randomized Search method."
   ]
  },
  {
   "cell_type": "markdown",
   "id": "06ebca6a-44c4-4eda-85a8-be7199aa9328",
   "metadata": {},
   "source": [
    "## 7. Model Selection"
   ]
  },
  {
   "cell_type": "markdown",
   "id": "4bd05768-2c46-439e-9a8d-8016c198ac95",
   "metadata": {},
   "source": [
    "Here, we exhibit each model's initial configurations and best sets of hyperparameters after tuning. The following are the search spaces defined to find hyperparameters that improve accuracy:"
   ]
  },
  {
   "cell_type": "code",
   "execution_count": 52,
   "id": "02dc485f-5ecb-4e3e-81ec-8a4dabeb4b61",
   "metadata": {},
   "outputs": [],
   "source": [
    "def printSearchSpace(modelName, hyperparameterSearchSpace):\n",
    "    print(f\"{modelName} Hyperparameter Search Space:\\n\")\n",
    "    for key, values in hyperparameterSearchSpace.items():\n",
    "        print(f\"{key}: {values}\")"
   ]
  },
  {
   "cell_type": "code",
   "execution_count": 53,
   "id": "41207eb3-561e-4bf3-8587-ac2a564dda03",
   "metadata": {},
   "outputs": [
    {
     "name": "stdout",
     "output_type": "stream",
     "text": [
      "K-Nearest Neighbors Hyperparameter Search Space:\n",
      "\n",
      "n_estimators: [50, 100, 120, 140, 200]\n",
      "criterion: ['gini', 'entropy', 'log_loss']\n",
      "min_samples_leaf: [1, 2, 4, 6, 8, 10]\n",
      "max_features: ['sqrt', 'log2', None]\n",
      "max_samples: [0.1, 0.3, 0.5, 0.7, 0.9]\n"
     ]
    }
   ],
   "source": [
    "# TODO: update search space\n",
    "printSearchSpace(\"K-Nearest Neighbors\", hyperparameters_rf)"
   ]
  },
  {
   "cell_type": "code",
   "execution_count": 54,
   "id": "d8668317-6cb2-4b66-a86c-094d88157a63",
   "metadata": {},
   "outputs": [
    {
     "name": "stdout",
     "output_type": "stream",
     "text": [
      "Logistic Regression Hyperparameter Search Space:\n",
      "\n",
      "n_estimators: [50, 100, 120, 140, 200]\n",
      "criterion: ['gini', 'entropy', 'log_loss']\n",
      "min_samples_leaf: [1, 2, 4, 6, 8, 10]\n",
      "max_features: ['sqrt', 'log2', None]\n",
      "max_samples: [0.1, 0.3, 0.5, 0.7, 0.9]\n"
     ]
    }
   ],
   "source": [
    "# TODO: update search space\n",
    "printSearchSpace(\"Logistic Regression\", hyperparameters_rf)"
   ]
  },
  {
   "cell_type": "code",
   "execution_count": 55,
   "id": "f8d5c4c3",
   "metadata": {},
   "outputs": [
    {
     "name": "stdout",
     "output_type": "stream",
     "text": [
      "Random Forest Hyperparameter Search Space:\n",
      "\n",
      "n_estimators: [50, 100, 120, 140, 200]\n",
      "criterion: ['gini', 'entropy', 'log_loss']\n",
      "min_samples_leaf: [1, 2, 4, 6, 8, 10]\n",
      "max_features: ['sqrt', 'log2', None]\n",
      "max_samples: [0.1, 0.3, 0.5, 0.7, 0.9]\n"
     ]
    }
   ],
   "source": [
    "printSearchSpace(\"Random Forest\", hyperparameters_rf)"
   ]
  },
  {
   "cell_type": "markdown",
   "id": "65520aca-d789-4902-b379-41a7fe4dc14d",
   "metadata": {},
   "source": [
    "After identifying these search spaces, the `RandomizedSearchCV` hyperparameter tuning method was used. The initial hyperparameters were updated to the best ones found as follows:"
   ]
  },
  {
   "cell_type": "code",
   "execution_count": 56,
   "id": "581267e2-b3b2-4654-9fc9-070901b45bc0",
   "metadata": {},
   "outputs": [],
   "source": [
    "def printInitialBestParams(modelName, originalModel, tunedModel, hyperparameterSearchSpace):\n",
    "    print(f\"Initial and Best hyperparameters for {modelName}:\")\n",
    "    params_df = pd.DataFrame({\n",
    "        'Parameter': list(hyperparameterSearchSpace.keys()),\n",
    "        'Initial': [originalModel.get_params()[key] for key in hyperparameterSearchSpace.keys()],\n",
    "        'Best': [tunedModel.get_params()[key] for key in hyperparameterSearchSpace.keys()],\n",
    "    })\n",
    "    return params_df"
   ]
  },
  {
   "cell_type": "code",
   "execution_count": 57,
   "id": "a4a746e8-692d-4b73-86bd-ecd60deb9e8c",
   "metadata": {},
   "outputs": [
    {
     "name": "stdout",
     "output_type": "stream",
     "text": [
      "Initial and Best hyperparameters for K-Nearest Neighbors:\n"
     ]
    },
    {
     "data": {
      "text/html": [
       "<div>\n",
       "<style scoped>\n",
       "    .dataframe tbody tr th:only-of-type {\n",
       "        vertical-align: middle;\n",
       "    }\n",
       "\n",
       "    .dataframe tbody tr th {\n",
       "        vertical-align: top;\n",
       "    }\n",
       "\n",
       "    .dataframe thead th {\n",
       "        text-align: right;\n",
       "    }\n",
       "</style>\n",
       "<table border=\"1\" class=\"dataframe\">\n",
       "  <thead>\n",
       "    <tr style=\"text-align: right;\">\n",
       "      <th></th>\n",
       "      <th>Parameter</th>\n",
       "      <th>Initial</th>\n",
       "      <th>Best</th>\n",
       "    </tr>\n",
       "  </thead>\n",
       "  <tbody>\n",
       "    <tr>\n",
       "      <th>0</th>\n",
       "      <td>n_estimators</td>\n",
       "      <td>100</td>\n",
       "      <td>200</td>\n",
       "    </tr>\n",
       "    <tr>\n",
       "      <th>1</th>\n",
       "      <td>criterion</td>\n",
       "      <td>gini</td>\n",
       "      <td>gini</td>\n",
       "    </tr>\n",
       "    <tr>\n",
       "      <th>2</th>\n",
       "      <td>min_samples_leaf</td>\n",
       "      <td>1</td>\n",
       "      <td>6</td>\n",
       "    </tr>\n",
       "    <tr>\n",
       "      <th>3</th>\n",
       "      <td>max_features</td>\n",
       "      <td>sqrt</td>\n",
       "      <td>log2</td>\n",
       "    </tr>\n",
       "    <tr>\n",
       "      <th>4</th>\n",
       "      <td>max_samples</td>\n",
       "      <td>None</td>\n",
       "      <td>0.9</td>\n",
       "    </tr>\n",
       "  </tbody>\n",
       "</table>\n",
       "</div>"
      ],
      "text/plain": [
       "          Parameter Initial  Best\n",
       "0      n_estimators     100   200\n",
       "1         criterion    gini  gini\n",
       "2  min_samples_leaf       1     6\n",
       "3      max_features    sqrt  log2\n",
       "4       max_samples    None   0.9"
      ]
     },
     "execution_count": 57,
     "metadata": {},
     "output_type": "execute_result"
    }
   ],
   "source": [
    "# Replace params with knn stuff\n",
    "printInitialBestParams(\"K-Nearest Neighbors\", rfc, best_estimator_rf, hyperparameters_rf)"
   ]
  },
  {
   "cell_type": "code",
   "execution_count": 58,
   "id": "712103b9-5e55-4f74-9157-ebb1a5536fad",
   "metadata": {},
   "outputs": [
    {
     "name": "stdout",
     "output_type": "stream",
     "text": [
      "Initial and Best hyperparameters for Logistic Regression:\n"
     ]
    },
    {
     "data": {
      "text/html": [
       "<div>\n",
       "<style scoped>\n",
       "    .dataframe tbody tr th:only-of-type {\n",
       "        vertical-align: middle;\n",
       "    }\n",
       "\n",
       "    .dataframe tbody tr th {\n",
       "        vertical-align: top;\n",
       "    }\n",
       "\n",
       "    .dataframe thead th {\n",
       "        text-align: right;\n",
       "    }\n",
       "</style>\n",
       "<table border=\"1\" class=\"dataframe\">\n",
       "  <thead>\n",
       "    <tr style=\"text-align: right;\">\n",
       "      <th></th>\n",
       "      <th>Parameter</th>\n",
       "      <th>Initial</th>\n",
       "      <th>Best</th>\n",
       "    </tr>\n",
       "  </thead>\n",
       "  <tbody>\n",
       "    <tr>\n",
       "      <th>0</th>\n",
       "      <td>n_estimators</td>\n",
       "      <td>100</td>\n",
       "      <td>200</td>\n",
       "    </tr>\n",
       "    <tr>\n",
       "      <th>1</th>\n",
       "      <td>criterion</td>\n",
       "      <td>gini</td>\n",
       "      <td>gini</td>\n",
       "    </tr>\n",
       "    <tr>\n",
       "      <th>2</th>\n",
       "      <td>min_samples_leaf</td>\n",
       "      <td>1</td>\n",
       "      <td>6</td>\n",
       "    </tr>\n",
       "    <tr>\n",
       "      <th>3</th>\n",
       "      <td>max_features</td>\n",
       "      <td>sqrt</td>\n",
       "      <td>log2</td>\n",
       "    </tr>\n",
       "    <tr>\n",
       "      <th>4</th>\n",
       "      <td>max_samples</td>\n",
       "      <td>None</td>\n",
       "      <td>0.9</td>\n",
       "    </tr>\n",
       "  </tbody>\n",
       "</table>\n",
       "</div>"
      ],
      "text/plain": [
       "          Parameter Initial  Best\n",
       "0      n_estimators     100   200\n",
       "1         criterion    gini  gini\n",
       "2  min_samples_leaf       1     6\n",
       "3      max_features    sqrt  log2\n",
       "4       max_samples    None   0.9"
      ]
     },
     "execution_count": 58,
     "metadata": {},
     "output_type": "execute_result"
    }
   ],
   "source": [
    "# Replace params with Logistic regression stuff\n",
    "printInitialBestParams(\"Logistic Regression\", rfc, best_estimator_rf, hyperparameters_rf)"
   ]
  },
  {
   "cell_type": "code",
   "execution_count": 59,
   "id": "6ba333d9-2987-462e-b47a-2d76529c4ff2",
   "metadata": {},
   "outputs": [
    {
     "name": "stdout",
     "output_type": "stream",
     "text": [
      "Initial and Best hyperparameters for Random Forest:\n"
     ]
    },
    {
     "data": {
      "text/html": [
       "<div>\n",
       "<style scoped>\n",
       "    .dataframe tbody tr th:only-of-type {\n",
       "        vertical-align: middle;\n",
       "    }\n",
       "\n",
       "    .dataframe tbody tr th {\n",
       "        vertical-align: top;\n",
       "    }\n",
       "\n",
       "    .dataframe thead th {\n",
       "        text-align: right;\n",
       "    }\n",
       "</style>\n",
       "<table border=\"1\" class=\"dataframe\">\n",
       "  <thead>\n",
       "    <tr style=\"text-align: right;\">\n",
       "      <th></th>\n",
       "      <th>Parameter</th>\n",
       "      <th>Initial</th>\n",
       "      <th>Best</th>\n",
       "    </tr>\n",
       "  </thead>\n",
       "  <tbody>\n",
       "    <tr>\n",
       "      <th>0</th>\n",
       "      <td>n_estimators</td>\n",
       "      <td>100</td>\n",
       "      <td>200</td>\n",
       "    </tr>\n",
       "    <tr>\n",
       "      <th>1</th>\n",
       "      <td>criterion</td>\n",
       "      <td>gini</td>\n",
       "      <td>gini</td>\n",
       "    </tr>\n",
       "    <tr>\n",
       "      <th>2</th>\n",
       "      <td>min_samples_leaf</td>\n",
       "      <td>1</td>\n",
       "      <td>6</td>\n",
       "    </tr>\n",
       "    <tr>\n",
       "      <th>3</th>\n",
       "      <td>max_features</td>\n",
       "      <td>sqrt</td>\n",
       "      <td>log2</td>\n",
       "    </tr>\n",
       "    <tr>\n",
       "      <th>4</th>\n",
       "      <td>max_samples</td>\n",
       "      <td>None</td>\n",
       "      <td>0.9</td>\n",
       "    </tr>\n",
       "  </tbody>\n",
       "</table>\n",
       "</div>"
      ],
      "text/plain": [
       "          Parameter Initial  Best\n",
       "0      n_estimators     100   200\n",
       "1         criterion    gini  gini\n",
       "2  min_samples_leaf       1     6\n",
       "3      max_features    sqrt  log2\n",
       "4       max_samples    None   0.9"
      ]
     },
     "execution_count": 59,
     "metadata": {},
     "output_type": "execute_result"
    }
   ],
   "source": [
    "printInitialBestParams(\"Random Forest\", rfc, best_estimator_rf, hyperparameters_rf)"
   ]
  },
  {
   "cell_type": "markdown",
   "id": "452817dc-c985-4001-a79c-1e40c4c4c8c6",
   "metadata": {},
   "source": [
    "Using the best hyperparameters identified, the following are the accuracies that were computed for each model."
   ]
  },
  {
   "cell_type": "code",
   "execution_count": 60,
   "id": "99df9432-9c24-48d6-996e-5b09fc699ff8",
   "metadata": {},
   "outputs": [
    {
     "data": {
      "text/html": [
       "<div>\n",
       "<style scoped>\n",
       "    .dataframe tbody tr th:only-of-type {\n",
       "        vertical-align: middle;\n",
       "    }\n",
       "\n",
       "    .dataframe tbody tr th {\n",
       "        vertical-align: top;\n",
       "    }\n",
       "\n",
       "    .dataframe thead th {\n",
       "        text-align: right;\n",
       "    }\n",
       "</style>\n",
       "<table border=\"1\" class=\"dataframe\">\n",
       "  <thead>\n",
       "    <tr style=\"text-align: right;\">\n",
       "      <th></th>\n",
       "      <th>Model</th>\n",
       "      <th>Initial (Train, Test)</th>\n",
       "      <th>Best (Train, Test)</th>\n",
       "    </tr>\n",
       "  </thead>\n",
       "  <tbody>\n",
       "    <tr>\n",
       "      <th>0</th>\n",
       "      <td>K-Nearest Neighbors</td>\n",
       "      <td>[97.2514, 60.7327]</td>\n",
       "      <td>[80.7215, 59.7023]</td>\n",
       "    </tr>\n",
       "    <tr>\n",
       "      <th>1</th>\n",
       "      <td>Logistic Regression</td>\n",
       "      <td>[97.2514, 60.7327]</td>\n",
       "      <td>[80.7215, 59.7023]</td>\n",
       "    </tr>\n",
       "    <tr>\n",
       "      <th>2</th>\n",
       "      <td>Random Forest</td>\n",
       "      <td>[97.2514, 60.7327]</td>\n",
       "      <td>[80.7215, 59.7023]</td>\n",
       "    </tr>\n",
       "  </tbody>\n",
       "</table>\n",
       "</div>"
      ],
      "text/plain": [
       "                 Model Initial (Train, Test)  Best (Train, Test)\n",
       "0  K-Nearest Neighbors    [97.2514, 60.7327]  [80.7215, 59.7023]\n",
       "1  Logistic Regression    [97.2514, 60.7327]  [80.7215, 59.7023]\n",
       "2        Random Forest    [97.2514, 60.7327]  [80.7215, 59.7023]"
      ]
     },
     "execution_count": 60,
     "metadata": {},
     "output_type": "execute_result"
    }
   ],
   "source": [
    "# Replace with ur own models stuff\n",
    "\n",
    "accuracies = [\n",
    "    ['K-Nearest Neighbors', [acc_train_rf, acc_test_rf], [tuned_acc_train_rf, tuned_acc_test_rf]],\n",
    "    ['Logistic Regression', [acc_train_rf, acc_test_rf], [tuned_acc_train_rf, tuned_acc_test_rf]],\n",
    "    ['Random Forest', [acc_train_rf, acc_test_rf], [tuned_acc_train_rf, tuned_acc_test_rf]]\n",
    "]\n",
    "\n",
    "pd.DataFrame(accuracies, columns=[\"Model\",\"Initial (Train, Test)\", \"Best (Train, Test)\"])"
   ]
  },
  {
   "cell_type": "markdown",
   "id": "248bcdce-7dd6-43ee-8179-2a0892453559",
   "metadata": {},
   "source": [
    "Based on these accuracies, we conclude that the (insert model) model is the best suited for the identified task."
   ]
  },
  {
   "cell_type": "markdown",
   "id": "41ff5093-f1a1-4193-9365-3f3764f93d46",
   "metadata": {},
   "source": [
    "## 8. Insights and Conclusions"
   ]
  },
  {
   "cell_type": "code",
   "execution_count": null,
   "id": "dbf1bc73-5f82-4718-9640-43b7f74e6d29",
   "metadata": {},
   "outputs": [],
   "source": []
  },
  {
   "cell_type": "markdown",
   "id": "6dd8dec4-a413-4639-b799-f6cc01e9b3cc",
   "metadata": {},
   "source": [
    "## 9. References"
   ]
  },
  {
   "cell_type": "markdown",
   "id": "5f8e46a8-d10e-47b9-804f-3f08b44095ab",
   "metadata": {},
   "source": [
    "Probst, P., Wright, M. N., & Boulesteix, A. (2019). Hyperparameters and tuning strategies for Random Forest. WIREs Data Mining and Knowledge Discovery, 9(3). https://doi.org/10.1002/widm.1301 "
   ]
  },
  {
   "cell_type": "markdown",
   "id": "18edb3c2-eb97-4372-b724-4695da880618",
   "metadata": {},
   "source": [
    "What is Random Forest?. IBM. (n.d.). https://www.ibm.com/topics/random-forest "
   ]
  },
  {
   "cell_type": "code",
   "execution_count": null,
   "id": "bc6a855e-306f-41fd-b730-8c10d3ff0cea",
   "metadata": {},
   "outputs": [],
   "source": []
  }
 ],
 "metadata": {
  "kernelspec": {
   "display_name": "Python 3 (ipykernel)",
   "language": "python",
   "name": "python3"
  },
  "language_info": {
   "codemirror_mode": {
    "name": "ipython",
    "version": 3
   },
   "file_extension": ".py",
   "mimetype": "text/x-python",
   "name": "python",
   "nbconvert_exporter": "python",
   "pygments_lexer": "ipython3",
   "version": "3.9.12"
  }
 },
 "nbformat": 4,
 "nbformat_minor": 5
}
